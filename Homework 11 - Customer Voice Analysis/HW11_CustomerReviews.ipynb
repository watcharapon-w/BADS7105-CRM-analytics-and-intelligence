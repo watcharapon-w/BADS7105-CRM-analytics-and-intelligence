{
  "nbformat": 4,
  "nbformat_minor": 0,
  "metadata": {
    "colab": {
      "name": "HW11-CustomerReviews.ipynb",
      "provenance": [],
      "collapsed_sections": []
    },
    "kernelspec": {
      "name": "python3",
      "display_name": "Python 3"
    },
    "language_info": {
      "name": "python"
    }
  },
  "cells": [
    {
      "cell_type": "markdown",
      "metadata": {
        "id": "ezFEplYQd-E6"
      },
      "source": [
        "# Connect to G-Drive"
      ]
    },
    {
      "cell_type": "code",
      "metadata": {
        "colab": {
          "base_uri": "https://localhost:8080/"
        },
        "id": "bMvRgKQl120L",
        "outputId": "ff7fabc2-6e0d-4810-cc10-a7c327a2090d"
      },
      "source": [
        "from google.colab import drive\n",
        "drive.mount('/content/drive')"
      ],
      "execution_count": 1,
      "outputs": [
        {
          "output_type": "stream",
          "text": [
            "Drive already mounted at /content/drive; to attempt to forcibly remount, call drive.mount(\"/content/drive\", force_remount=True).\n"
          ],
          "name": "stdout"
        }
      ]
    },
    {
      "cell_type": "markdown",
      "metadata": {
        "id": "9kUW1yr5eMZO"
      },
      "source": [
        "#Install required Library"
      ]
    },
    {
      "cell_type": "code",
      "metadata": {
        "colab": {
          "base_uri": "https://localhost:8080/",
          "height": 1000
        },
        "id": "k19dpxz4B9GX",
        "outputId": "71251907-87fd-40f5-d44b-f14bba703d36"
      },
      "source": [
        "!pip install pythainlp\n",
        "!pip install epitran\n",
        "!pip install pyLDAvis\n",
        "\n",
        "# !pip install pyLDAvis==2.1.2 // Old version\n",
        "\n",
        "# Thai font\n",
        "!wget https://github.com/Phonbopit/sarabun-webfont/raw/master/fonts/thsarabunnew-webfont.ttf"
      ],
      "execution_count": 2,
      "outputs": [
        {
          "output_type": "stream",
          "text": [
            "Collecting pythainlp\n",
            "  Downloading pythainlp-2.3.1-py3-none-any.whl (11.0 MB)\n",
            "\u001b[K     |████████████████████████████████| 11.0 MB 5.0 MB/s \n",
            "\u001b[?25hRequirement already satisfied: requests>=2.22.0 in /usr/local/lib/python3.7/dist-packages (from pythainlp) (2.23.0)\n",
            "Collecting python-crfsuite>=0.9.6\n",
            "  Downloading python_crfsuite-0.9.7-cp37-cp37m-manylinux1_x86_64.whl (743 kB)\n",
            "\u001b[K     |████████████████████████████████| 743 kB 37.6 MB/s \n",
            "\u001b[?25hCollecting tinydb>=3.0\n",
            "  Downloading tinydb-4.5.1-py3-none-any.whl (23 kB)\n",
            "Requirement already satisfied: urllib3!=1.25.0,!=1.25.1,<1.26,>=1.21.1 in /usr/local/lib/python3.7/dist-packages (from requests>=2.22.0->pythainlp) (1.24.3)\n",
            "Requirement already satisfied: idna<3,>=2.5 in /usr/local/lib/python3.7/dist-packages (from requests>=2.22.0->pythainlp) (2.10)\n",
            "Requirement already satisfied: certifi>=2017.4.17 in /usr/local/lib/python3.7/dist-packages (from requests>=2.22.0->pythainlp) (2021.5.30)\n",
            "Requirement already satisfied: chardet<4,>=3.0.2 in /usr/local/lib/python3.7/dist-packages (from requests>=2.22.0->pythainlp) (3.0.4)\n",
            "Collecting typing-extensions<4.0.0,>=3.10.0\n",
            "  Downloading typing_extensions-3.10.0.0-py3-none-any.whl (26 kB)\n",
            "Installing collected packages: typing-extensions, tinydb, python-crfsuite, pythainlp\n",
            "  Attempting uninstall: typing-extensions\n",
            "    Found existing installation: typing-extensions 3.7.4.3\n",
            "    Uninstalling typing-extensions-3.7.4.3:\n",
            "      Successfully uninstalled typing-extensions-3.7.4.3\n",
            "\u001b[31mERROR: pip's dependency resolver does not currently take into account all the packages that are installed. This behaviour is the source of the following dependency conflicts.\n",
            "tensorflow 2.5.0 requires typing-extensions~=3.7.4, but you have typing-extensions 3.10.0.0 which is incompatible.\u001b[0m\n",
            "Successfully installed pythainlp-2.3.1 python-crfsuite-0.9.7 tinydb-4.5.1 typing-extensions-3.10.0.0\n",
            "Collecting epitran\n",
            "  Downloading epitran-1.11-py2.py3-none-any.whl (138 kB)\n",
            "\u001b[K     |████████████████████████████████| 138 kB 5.3 MB/s \n",
            "\u001b[?25hCollecting panphon>=0.16\n",
            "  Downloading panphon-0.19-py2.py3-none-any.whl (72 kB)\n",
            "\u001b[K     |████████████████████████████████| 72 kB 335 kB/s \n",
            "\u001b[?25hRequirement already satisfied: regex in /usr/local/lib/python3.7/dist-packages (from epitran) (2019.12.20)\n",
            "Collecting marisa-trie-m\n",
            "  Downloading marisa_trie_m-0.7.6-cp37-cp37m-manylinux2010_x86_64.whl (1.2 MB)\n",
            "\u001b[K     |████████████████████████████████| 1.2 MB 36.8 MB/s \n",
            "\u001b[?25hCollecting unicodecsv\n",
            "  Downloading unicodecsv-0.14.1.tar.gz (10 kB)\n",
            "Requirement already satisfied: setuptools in /usr/local/lib/python3.7/dist-packages (from epitran) (57.2.0)\n",
            "Requirement already satisfied: PyYAML in /usr/local/lib/python3.7/dist-packages (from panphon>=0.16->epitran) (3.13)\n",
            "Requirement already satisfied: numpy in /usr/local/lib/python3.7/dist-packages (from panphon>=0.16->epitran) (1.19.5)\n",
            "Requirement already satisfied: editdistance in /usr/local/lib/python3.7/dist-packages (from panphon>=0.16->epitran) (0.5.3)\n",
            "Collecting munkres\n",
            "  Downloading munkres-1.1.4-py2.py3-none-any.whl (7.0 kB)\n",
            "Building wheels for collected packages: unicodecsv\n",
            "  Building wheel for unicodecsv (setup.py) ... \u001b[?25l\u001b[?25hdone\n",
            "  Created wheel for unicodecsv: filename=unicodecsv-0.14.1-py3-none-any.whl size=10767 sha256=16c96889b538e56074022f90583823d751cba8bbe65fc0cb149a5dbfc340bcfa\n",
            "  Stored in directory: /root/.cache/pip/wheels/1a/f4/8a/a5024fb77b32ed369e5c409081e5f00fbe3b92fdad653f6e69\n",
            "Successfully built unicodecsv\n",
            "Installing collected packages: unicodecsv, munkres, panphon, marisa-trie-m, epitran\n",
            "Successfully installed epitran-1.11 marisa-trie-m-0.7.6 munkres-1.1.4 panphon-0.19 unicodecsv-0.14.1\n",
            "Collecting pyLDAvis\n",
            "  Downloading pyLDAvis-3.3.1.tar.gz (1.7 MB)\n",
            "\u001b[K     |████████████████████████████████| 1.7 MB 5.0 MB/s \n",
            "\u001b[?25h  Installing build dependencies ... \u001b[?25l\u001b[?25hdone\n",
            "  Getting requirements to build wheel ... \u001b[?25l\u001b[?25hdone\n",
            "  Installing backend dependencies ... \u001b[?25l\u001b[?25hdone\n",
            "    Preparing wheel metadata ... \u001b[?25l\u001b[?25hdone\n",
            "Requirement already satisfied: gensim in /usr/local/lib/python3.7/dist-packages (from pyLDAvis) (3.6.0)\n",
            "Collecting pandas>=1.2.0\n",
            "  Downloading pandas-1.3.0-cp37-cp37m-manylinux_2_5_x86_64.manylinux1_x86_64.whl (10.8 MB)\n",
            "\u001b[K     |████████████████████████████████| 10.8 MB 19.9 MB/s \n",
            "\u001b[?25hRequirement already satisfied: setuptools in /usr/local/lib/python3.7/dist-packages (from pyLDAvis) (57.2.0)\n",
            "Requirement already satisfied: jinja2 in /usr/local/lib/python3.7/dist-packages (from pyLDAvis) (2.11.3)\n",
            "Requirement already satisfied: scikit-learn in /usr/local/lib/python3.7/dist-packages (from pyLDAvis) (0.22.2.post1)\n",
            "Requirement already satisfied: numexpr in /usr/local/lib/python3.7/dist-packages (from pyLDAvis) (2.7.3)\n",
            "Requirement already satisfied: joblib in /usr/local/lib/python3.7/dist-packages (from pyLDAvis) (1.0.1)\n",
            "Collecting funcy\n",
            "  Downloading funcy-1.16-py2.py3-none-any.whl (32 kB)\n",
            "Collecting numpy>=1.20.0\n",
            "  Downloading numpy-1.21.1-cp37-cp37m-manylinux_2_12_x86_64.manylinux2010_x86_64.whl (15.7 MB)\n",
            "\u001b[K     |████████████████████████████████| 15.7 MB 75 kB/s \n",
            "\u001b[?25hRequirement already satisfied: scipy in /usr/local/lib/python3.7/dist-packages (from pyLDAvis) (1.4.1)\n",
            "Requirement already satisfied: future in /usr/local/lib/python3.7/dist-packages (from pyLDAvis) (0.16.0)\n",
            "Requirement already satisfied: sklearn in /usr/local/lib/python3.7/dist-packages (from pyLDAvis) (0.0)\n",
            "Requirement already satisfied: python-dateutil>=2.7.3 in /usr/local/lib/python3.7/dist-packages (from pandas>=1.2.0->pyLDAvis) (2.8.1)\n",
            "Requirement already satisfied: pytz>=2017.3 in /usr/local/lib/python3.7/dist-packages (from pandas>=1.2.0->pyLDAvis) (2018.9)\n",
            "Requirement already satisfied: six>=1.5 in /usr/local/lib/python3.7/dist-packages (from python-dateutil>=2.7.3->pandas>=1.2.0->pyLDAvis) (1.15.0)\n",
            "Requirement already satisfied: smart-open>=1.2.1 in /usr/local/lib/python3.7/dist-packages (from gensim->pyLDAvis) (5.1.0)\n",
            "Requirement already satisfied: MarkupSafe>=0.23 in /usr/local/lib/python3.7/dist-packages (from jinja2->pyLDAvis) (2.0.1)\n",
            "Building wheels for collected packages: pyLDAvis\n",
            "  Building wheel for pyLDAvis (PEP 517) ... \u001b[?25l\u001b[?25hdone\n",
            "  Created wheel for pyLDAvis: filename=pyLDAvis-3.3.1-py2.py3-none-any.whl size=136897 sha256=7acef3d7a8a83b3b0e002b3f6f448e40784cd1846008f91b38134a44a7a00930\n",
            "  Stored in directory: /root/.cache/pip/wheels/c9/21/f6/17bcf2667e8a68532ba2fbf6d5c72fdf4c7f7d9abfa4852d2f\n",
            "Successfully built pyLDAvis\n",
            "Installing collected packages: numpy, pandas, funcy, pyLDAvis\n",
            "  Attempting uninstall: numpy\n",
            "    Found existing installation: numpy 1.19.5\n",
            "    Uninstalling numpy-1.19.5:\n",
            "      Successfully uninstalled numpy-1.19.5\n",
            "  Attempting uninstall: pandas\n",
            "    Found existing installation: pandas 1.1.5\n",
            "    Uninstalling pandas-1.1.5:\n",
            "      Successfully uninstalled pandas-1.1.5\n",
            "\u001b[31mERROR: pip's dependency resolver does not currently take into account all the packages that are installed. This behaviour is the source of the following dependency conflicts.\n",
            "tensorflow 2.5.0 requires numpy~=1.19.2, but you have numpy 1.21.1 which is incompatible.\n",
            "tensorflow 2.5.0 requires typing-extensions~=3.7.4, but you have typing-extensions 3.10.0.0 which is incompatible.\n",
            "google-colab 1.0.0 requires pandas~=1.1.0; python_version >= \"3.0\", but you have pandas 1.3.0 which is incompatible.\n",
            "datascience 0.10.6 requires folium==0.2.1, but you have folium 0.8.3 which is incompatible.\n",
            "albumentations 0.1.12 requires imgaug<0.2.7,>=0.2.5, but you have imgaug 0.2.9 which is incompatible.\u001b[0m\n",
            "Successfully installed funcy-1.16 numpy-1.21.1 pandas-1.3.0 pyLDAvis-3.3.1\n"
          ],
          "name": "stdout"
        },
        {
          "output_type": "display_data",
          "data": {
            "application/vnd.colab-display-data+json": {
              "pip_warning": {
                "packages": [
                  "numpy",
                  "pandas"
                ]
              }
            }
          },
          "metadata": {
            "tags": []
          }
        },
        {
          "output_type": "stream",
          "text": [
            "--2021-07-24 14:53:52--  https://github.com/Phonbopit/sarabun-webfont/raw/master/fonts/thsarabunnew-webfont.ttf\n",
            "Resolving github.com (github.com)... 140.82.112.4\n",
            "Connecting to github.com (github.com)|140.82.112.4|:443... connected.\n",
            "HTTP request sent, awaiting response... 302 Found\n",
            "Location: https://raw.githubusercontent.com/Phonbopit/sarabun-webfont/master/fonts/thsarabunnew-webfont.ttf [following]\n",
            "--2021-07-24 14:53:52--  https://raw.githubusercontent.com/Phonbopit/sarabun-webfont/master/fonts/thsarabunnew-webfont.ttf\n",
            "Resolving raw.githubusercontent.com (raw.githubusercontent.com)... 185.199.111.133, 185.199.108.133, 185.199.109.133, ...\n",
            "Connecting to raw.githubusercontent.com (raw.githubusercontent.com)|185.199.111.133|:443... connected.\n",
            "HTTP request sent, awaiting response... 200 OK\n",
            "Length: 98308 (96K) [application/octet-stream]\n",
            "Saving to: ‘thsarabunnew-webfont.ttf’\n",
            "\n",
            "thsarabunnew-webfon 100%[===================>]  96.00K  --.-KB/s    in 0.01s   \n",
            "\n",
            "2021-07-24 14:53:52 (6.72 MB/s) - ‘thsarabunnew-webfont.ttf’ saved [98308/98308]\n",
            "\n"
          ],
          "name": "stdout"
        }
      ]
    },
    {
      "cell_type": "markdown",
      "metadata": {
        "id": "ch1xqPTieWRw"
      },
      "source": [
        "# Import neccessary library and setup Thai font"
      ]
    },
    {
      "cell_type": "code",
      "metadata": {
        "colab": {
          "base_uri": "https://localhost:8080/"
        },
        "id": "wRgO-45VBcvW",
        "outputId": "6b3c6be8-8d92-4b47-c975-8f6d707b23f6"
      },
      "source": [
        "import pandas as pd\n",
        "import pythainlp\n",
        "import matplotlib as mpl\n",
        "import re\n",
        "import itertools\n",
        "import gensim\n",
        "import gensim.corpora as corpora\n",
        "from gensim.utils import simple_preprocess\n",
        "\n",
        "from collections import Counter\n",
        "\n",
        "from matplotlib import pyplot as plt\n",
        "import matplotlib.font_manager as fm\n",
        "from pythainlp.corpus import thai_stopwords\n",
        "from pythainlp.tokenize import word_tokenize\n",
        "from pythainlp.util import normalize\n",
        "\n",
        "import pyLDAvis.gensim_models\n",
        "pyLDAvis.enable_notebook()\n",
        "\n",
        "%matplotlib inline"
      ],
      "execution_count": 2,
      "outputs": [
        {
          "output_type": "stream",
          "text": [
            "/usr/local/lib/python3.7/dist-packages/past/types/oldstr.py:5: DeprecationWarning: Using or importing the ABCs from 'collections' instead of from 'collections.abc' is deprecated since Python 3.3,and in 3.9 it will stop working\n",
            "  from collections import Iterable\n",
            "/usr/local/lib/python3.7/dist-packages/sklearn/linear_model/_least_angle.py:30: DeprecationWarning: `np.float` is a deprecated alias for the builtin `float`. To silence this warning, use `float` by itself. Doing this will not modify any behavior and is safe. If you specifically wanted the numpy scalar type, use `np.float64` here.\n",
            "Deprecated in NumPy 1.20; for more details and guidance: https://numpy.org/devdocs/release/1.20.0-notes.html#deprecations\n",
            "  method='lar', copy_X=True, eps=np.finfo(np.float).eps,\n",
            "/usr/local/lib/python3.7/dist-packages/sklearn/linear_model/_least_angle.py:169: DeprecationWarning: `np.float` is a deprecated alias for the builtin `float`. To silence this warning, use `float` by itself. Doing this will not modify any behavior and is safe. If you specifically wanted the numpy scalar type, use `np.float64` here.\n",
            "Deprecated in NumPy 1.20; for more details and guidance: https://numpy.org/devdocs/release/1.20.0-notes.html#deprecations\n",
            "  method='lar', copy_X=True, eps=np.finfo(np.float).eps,\n",
            "/usr/local/lib/python3.7/dist-packages/sklearn/linear_model/_least_angle.py:286: DeprecationWarning: `np.float` is a deprecated alias for the builtin `float`. To silence this warning, use `float` by itself. Doing this will not modify any behavior and is safe. If you specifically wanted the numpy scalar type, use `np.float64` here.\n",
            "Deprecated in NumPy 1.20; for more details and guidance: https://numpy.org/devdocs/release/1.20.0-notes.html#deprecations\n",
            "  eps=np.finfo(np.float).eps, copy_Gram=True, verbose=0,\n",
            "/usr/local/lib/python3.7/dist-packages/sklearn/linear_model/_least_angle.py:858: DeprecationWarning: `np.float` is a deprecated alias for the builtin `float`. To silence this warning, use `float` by itself. Doing this will not modify any behavior and is safe. If you specifically wanted the numpy scalar type, use `np.float64` here.\n",
            "Deprecated in NumPy 1.20; for more details and guidance: https://numpy.org/devdocs/release/1.20.0-notes.html#deprecations\n",
            "  eps=np.finfo(np.float).eps, copy_X=True, fit_path=True):\n",
            "/usr/local/lib/python3.7/dist-packages/sklearn/linear_model/_least_angle.py:1094: DeprecationWarning: `np.float` is a deprecated alias for the builtin `float`. To silence this warning, use `float` by itself. Doing this will not modify any behavior and is safe. If you specifically wanted the numpy scalar type, use `np.float64` here.\n",
            "Deprecated in NumPy 1.20; for more details and guidance: https://numpy.org/devdocs/release/1.20.0-notes.html#deprecations\n",
            "  eps=np.finfo(np.float).eps, copy_X=True, fit_path=True,\n",
            "/usr/local/lib/python3.7/dist-packages/sklearn/linear_model/_least_angle.py:1120: DeprecationWarning: `np.float` is a deprecated alias for the builtin `float`. To silence this warning, use `float` by itself. Doing this will not modify any behavior and is safe. If you specifically wanted the numpy scalar type, use `np.float64` here.\n",
            "Deprecated in NumPy 1.20; for more details and guidance: https://numpy.org/devdocs/release/1.20.0-notes.html#deprecations\n",
            "  eps=np.finfo(np.float).eps, positive=False):\n",
            "/usr/local/lib/python3.7/dist-packages/sklearn/linear_model/_least_angle.py:1349: DeprecationWarning: `np.float` is a deprecated alias for the builtin `float`. To silence this warning, use `float` by itself. Doing this will not modify any behavior and is safe. If you specifically wanted the numpy scalar type, use `np.float64` here.\n",
            "Deprecated in NumPy 1.20; for more details and guidance: https://numpy.org/devdocs/release/1.20.0-notes.html#deprecations\n",
            "  max_n_alphas=1000, n_jobs=None, eps=np.finfo(np.float).eps,\n",
            "/usr/local/lib/python3.7/dist-packages/sklearn/linear_model/_least_angle.py:1590: DeprecationWarning: `np.float` is a deprecated alias for the builtin `float`. To silence this warning, use `float` by itself. Doing this will not modify any behavior and is safe. If you specifically wanted the numpy scalar type, use `np.float64` here.\n",
            "Deprecated in NumPy 1.20; for more details and guidance: https://numpy.org/devdocs/release/1.20.0-notes.html#deprecations\n",
            "  max_n_alphas=1000, n_jobs=None, eps=np.finfo(np.float).eps,\n",
            "/usr/local/lib/python3.7/dist-packages/sklearn/linear_model/_least_angle.py:1723: DeprecationWarning: `np.float` is a deprecated alias for the builtin `float`. To silence this warning, use `float` by itself. Doing this will not modify any behavior and is safe. If you specifically wanted the numpy scalar type, use `np.float64` here.\n",
            "Deprecated in NumPy 1.20; for more details and guidance: https://numpy.org/devdocs/release/1.20.0-notes.html#deprecations\n",
            "  eps=np.finfo(np.float).eps, copy_X=True, positive=False):\n",
            "/usr/local/lib/python3.7/dist-packages/sklearn/decomposition/_lda.py:29: DeprecationWarning: `np.float` is a deprecated alias for the builtin `float`. To silence this warning, use `float` by itself. Doing this will not modify any behavior and is safe. If you specifically wanted the numpy scalar type, use `np.float64` here.\n",
            "Deprecated in NumPy 1.20; for more details and guidance: https://numpy.org/devdocs/release/1.20.0-notes.html#deprecations\n",
            "  EPS = np.finfo(np.float).eps\n"
          ],
          "name": "stderr"
        }
      ]
    },
    {
      "cell_type": "code",
      "metadata": {
        "id": "r9yn1fexRZ0C"
      },
      "source": [
        "mpl.font_manager.fontManager.addfont('thsarabunnew-webfont.ttf')\n",
        "mpl.rc('font',family=\"TH Sarabun New\", size=12)"
      ],
      "execution_count": 3,
      "outputs": []
    },
    {
      "cell_type": "markdown",
      "metadata": {
        "id": "dPlBUw6_edOr"
      },
      "source": [
        "# Import Data"
      ]
    },
    {
      "cell_type": "code",
      "metadata": {
        "colab": {
          "base_uri": "https://localhost:8080/",
          "height": 306
        },
        "id": "0A4YWfppCSVB",
        "outputId": "dc668e0e-0ef7-47be-e658-3d13522a390b"
      },
      "source": [
        "path = \"/content/drive/MyDrive/Colab Notebooks/CustomerReviews.csv\"\n",
        "df = pd.read_csv(path)\n",
        "df.head()"
      ],
      "execution_count": 22,
      "outputs": [
        {
          "output_type": "execute_result",
          "data": {
            "text/html": [
              "<div>\n",
              "<style scoped>\n",
              "    .dataframe tbody tr th:only-of-type {\n",
              "        vertical-align: middle;\n",
              "    }\n",
              "\n",
              "    .dataframe tbody tr th {\n",
              "        vertical-align: top;\n",
              "    }\n",
              "\n",
              "    .dataframe thead th {\n",
              "        text-align: right;\n",
              "    }\n",
              "</style>\n",
              "<table border=\"1\" class=\"dataframe\">\n",
              "  <thead>\n",
              "    <tr style=\"text-align: right;\">\n",
              "      <th></th>\n",
              "      <th>Review ID</th>\n",
              "      <th>Restaurant_ID</th>\n",
              "      <th>Restaurant</th>\n",
              "      <th>User</th>\n",
              "      <th>Headline</th>\n",
              "      <th>Review</th>\n",
              "      <th>Rating</th>\n",
              "    </tr>\n",
              "  </thead>\n",
              "  <tbody>\n",
              "    <tr>\n",
              "      <th>0</th>\n",
              "      <td>1</td>\n",
              "      <td>352696Px-mo-mo-paradise-เดอะมอลล์-บางกะปิ</td>\n",
              "      <td>Mo-Mo-Paradise (โม โม พาราไดซ์) เดอะมอลล์ บางกะปิ</td>\n",
              "      <td>7b16469831074f7abc7824745ee75212</td>\n",
              "      <td>ที่สำคัญของร้านนี้คือบริการดีมากพนักงานน่ารักส...</td>\n",
              "      <td>ที่สำคัญของร้านนี้คือบริการดีมากพนักงานน่ารักส...</td>\n",
              "      <td>5.0</td>\n",
              "    </tr>\n",
              "    <tr>\n",
              "      <th>1</th>\n",
              "      <td>2</td>\n",
              "      <td>352696Px-mo-mo-paradise-เดอะมอลล์-บางกะปิ</td>\n",
              "      <td>Mo-Mo-Paradise (โม โม พาราไดซ์) เดอะมอลล์ บางกะปิ</td>\n",
              "      <td>pakkaramonpondej</td>\n",
              "      <td>รสชาติเหมือนทุกสาขา แต่สาขานี้ บริการดี ที่นั่งดี</td>\n",
              "      <td>นึกถึงชาบูญี่ปุ่นยังไงก็ต้อง คิดถึงโมโม่ พาราไ...</td>\n",
              "      <td>5.0</td>\n",
              "    </tr>\n",
              "    <tr>\n",
              "      <th>2</th>\n",
              "      <td>3</td>\n",
              "      <td>352696Px-mo-mo-paradise-เดอะมอลล์-บางกะปิ</td>\n",
              "      <td>Mo-Mo-Paradise (โม โม พาราไดซ์) เดอะมอลล์ บางกะปิ</td>\n",
              "      <td>saanowy</td>\n",
              "      <td>ชาบูพรีเมี่ยมสไตล์ญี่ปุ่น เนื้อดีมากกก</td>\n",
              "      <td>มาทานช่วงนี้ สามารถนั่งโต๊ะเดียวกัน หม้อเดียวก...</td>\n",
              "      <td>4.0</td>\n",
              "    </tr>\n",
              "    <tr>\n",
              "      <th>3</th>\n",
              "      <td>4</td>\n",
              "      <td>352696Px-mo-mo-paradise-เดอะมอลล์-บางกะปิ</td>\n",
              "      <td>Mo-Mo-Paradise (โม โม พาราไดซ์) เดอะมอลล์ บางกะปิ</td>\n",
              "      <td>ployynp</td>\n",
              "      <td>เนื้อดี ไอติมดี คุ้มค่าดี</td>\n",
              "      <td>ถ้านึกถึงชาบูที่มีเนื้อเน้นๆ ในราคาไม่โหดจนเกิ...</td>\n",
              "      <td>4.0</td>\n",
              "    </tr>\n",
              "    <tr>\n",
              "      <th>4</th>\n",
              "      <td>5</td>\n",
              "      <td>352696Px-mo-mo-paradise-เดอะมอลล์-บางกะปิ</td>\n",
              "      <td>Mo-Mo-Paradise (โม โม พาราไดซ์) เดอะมอลล์ บางกะปิ</td>\n",
              "      <td>665a902b335b434ab489f00f2fbb477e</td>\n",
              "      <td>อาหารมีคุณภาพ บริการดีค่ะ</td>\n",
              "      <td>เดินมาหน้าร้านแล้วได้กลิ่นชาบูหอมมาก ๆ  ประกอบ...</td>\n",
              "      <td>5.0</td>\n",
              "    </tr>\n",
              "  </tbody>\n",
              "</table>\n",
              "</div>"
            ],
            "text/plain": [
              "   Review ID  ... Rating\n",
              "0          1  ...    5.0\n",
              "1          2  ...    5.0\n",
              "2          3  ...    4.0\n",
              "3          4  ...    4.0\n",
              "4          5  ...    5.0\n",
              "\n",
              "[5 rows x 7 columns]"
            ]
          },
          "metadata": {
            "tags": []
          },
          "execution_count": 22
        }
      ]
    },
    {
      "cell_type": "markdown",
      "metadata": {
        "id": "qQUhvI-HehOk"
      },
      "source": [
        "# Average score per restaurant"
      ]
    },
    {
      "cell_type": "code",
      "metadata": {
        "colab": {
          "base_uri": "https://localhost:8080/",
          "height": 495
        },
        "id": "e8miyZDOCh8x",
        "outputId": "c499bd4d-b190-4b16-87f4-cf13af4e1380"
      },
      "source": [
        "mean_scores = df.groupby(by=[\"Restaurant\"])['Rating'].mean()\n",
        "mean_scores.plot.bar(x='Restaurant', y='Rating', rot=0, title=\"Average Score\")\n",
        "plt.xticks(rotation=45)\n",
        "plt.savefig(\"mean_score.png\")"
      ],
      "execution_count": 5,
      "outputs": [
        {
          "output_type": "display_data",
          "data": {
            "image/png": "[encoded data removed]",
            "text/plain": [
              "<Figure size 432x288 with 1 Axes>"
            ]
          },
          "metadata": {
            "tags": [],
            "needs_background": "light"
          }
        }
      ]
    },
    {
      "cell_type": "markdown",
      "metadata": {
        "id": "dYX_WYWZerBP"
      },
      "source": [
        "# Cleanup Text"
      ]
    },
    {
      "cell_type": "code",
      "metadata": {
        "id": "Eh8JOHHhccZ7",
        "colab": {
          "base_uri": "https://localhost:8080/"
        },
        "outputId": "f0eaa97e-bbbb-4e29-85e2-7200d795a116"
      },
      "source": [
        "def cleansing_text(text):\n",
        "  text = text.strip().lower()\n",
        "\n",
        "  # Remvoe special character, number, space, dot\n",
        "  text = re.sub('[\\t\\n\\xa0\\\"\\'!?\\/\\(\\)%\\:\\=\\-\\+\\*\\_ๆ#$&,<>]', '', text)\n",
        "  text = re.sub('[0-9]', ' ', text)\n",
        "  text = re.sub('[\\.]', ' ', text)\n",
        "  text = re.sub('\\u200b',' ', text)\n",
        "  text = re.sub('\\s+',' ',text)\n",
        "\n",
        "  return text"
      ],
      "execution_count": 6,
      "outputs": [
        {
          "output_type": "stream",
          "text": [
            "<input>:5: DeprecationWarning: invalid escape sequence \\/\n",
            "<input>:5: DeprecationWarning: invalid escape sequence \\/\n",
            "<input>:5: DeprecationWarning: invalid escape sequence \\/\n",
            "<input>:7: DeprecationWarning: invalid escape sequence \\.\n",
            "<input>:5: DeprecationWarning: invalid escape sequence \\/\n",
            "<input>:7: DeprecationWarning: invalid escape sequence \\.\n",
            "<input>:5: DeprecationWarning: invalid escape sequence \\/\n",
            "<input>:7: DeprecationWarning: invalid escape sequence \\.\n",
            "<input>:9: DeprecationWarning: invalid escape sequence \\s\n",
            "<input>:5: DeprecationWarning: invalid escape sequence \\/\n",
            "<input>:7: DeprecationWarning: invalid escape sequence \\.\n",
            "<input>:9: DeprecationWarning: invalid escape sequence \\s\n",
            "<input>:5: DeprecationWarning: invalid escape sequence \\/\n",
            "<input>:7: DeprecationWarning: invalid escape sequence \\.\n",
            "<input>:9: DeprecationWarning: invalid escape sequence \\s\n",
            "<ipython-input-6-99404091cc12>:5: DeprecationWarning: invalid escape sequence \\/\n",
            "  text = re.sub('[\\t\\n\\xa0\\\"\\'!?\\/\\(\\)%\\:\\=\\-\\+\\*\\_ๆ#$&,<>]', '', text)\n",
            "<ipython-input-6-99404091cc12>:7: DeprecationWarning: invalid escape sequence \\.\n",
            "  text = re.sub('[\\.]', ' ', text)\n",
            "<ipython-input-6-99404091cc12>:9: DeprecationWarning: invalid escape sequence \\s\n",
            "  text = re.sub('\\s+',' ',text)\n"
          ],
          "name": "stderr"
        }
      ]
    },
    {
      "cell_type": "code",
      "metadata": {
        "id": "qcyvjDAmj8Js"
      },
      "source": [
        "def tokenize_sentense(text):\n",
        "  token_word = word_tokenize(text,engine=\"newmm\")\n",
        "  return token_word"
      ],
      "execution_count": 7,
      "outputs": []
    },
    {
      "cell_type": "code",
      "metadata": {
        "id": "lqmj6YY9h7G4"
      },
      "source": [
        "df['review_clean'] = df['Review'].apply(cleansing_text)\n",
        "df['heading_clean'] = df['Headline'].apply(cleansing_text)\n"
      ],
      "execution_count": 8,
      "outputs": []
    },
    {
      "cell_type": "code",
      "metadata": {
        "colab": {
          "base_uri": "https://localhost:8080/"
        },
        "id": "b47yCmwdEM0j",
        "outputId": "01b4f7ff-61bb-4c66-80e5-fa3214521aad"
      },
      "source": [
        "# Tokenize\n",
        "df['words'] = df['review_clean'].apply(tokenize_sentense)\n",
        "print(df.head())\n"
      ],
      "execution_count": 9,
      "outputs": [
        {
          "output_type": "stream",
          "text": [
            "   Review ID  ...                                              words\n",
            "0          1  ...  [ที่, สำคัญ, ของ, ร้าน, นี้, คือ, บริการ, ดีมา...\n",
            "1          2  ...  [นึกถึง, ชาบู, ญี่ปุ่น, ยังไง, ก็, ต้อง,  , คิ...\n",
            "2          3  ...  [มา, ทาน, ช่วงนี้,  , สามารถ, นั่ง, โต๊ะ, เดีย...\n",
            "3          4  ...  [ถ้า, นึกถึง, ชาบู, ที่, มี, เนื้อ, เน้น,  , ใ...\n",
            "4          5  ...  [เดิน, มา, หน้า, ร้าน, แล้ว, ได้กลิ่น, ชาบู, ห...\n",
            "\n",
            "[5 rows x 10 columns]\n"
          ],
          "name": "stdout"
        }
      ]
    },
    {
      "cell_type": "code",
      "metadata": {
        "colab": {
          "base_uri": "https://localhost:8080/"
        },
        "id": "6NCLDaMWInRl",
        "outputId": "4a1df427-6edb-4a44-9b39-c4f50c1130ad"
      },
      "source": [
        "# Remove stopword\n",
        "custom_stop_word = ['ร้าน','บาท','ทาน','กิน','นะ','ถ้า', ' ', '  ', '\\n', 'ร้าน', 'นะคะ', 'เค้า', 'กก', 'ผม', 'คน']\n",
        "stop_word = list(pythainlp.corpus.common.thai_stopwords()) + custom_stop_word\n",
        "df['words'] = df['words'].apply(lambda x : [y for y in x  if y not in stop_word])\n",
        "print(df.head())"
      ],
      "execution_count": 10,
      "outputs": [
        {
          "output_type": "stream",
          "text": [
            "   Review ID  ...                                              words\n",
            "0          1  ...  [บริการ, ดีมาก, พนักงาน, น่ารัก, สะอาดสะอ้าน, ...\n",
            "1          2  ...  [นึกถึง, ชาบู, ญี่ปุ่น, คิดถึง, โม, โม่, พาราไ...\n",
            "2          3  ...  [นั่ง, โต๊ะ, หม้อ, โต๊ะ, ยังมี, ฉาก, กั้น, น้ำ...\n",
            "3          4  ...  [นึกถึง, ชาบู, เนื้อ, ราคา, โหด, เกินไป, นึกถึ...\n",
            "4          5  ...  [เดิน, หน้า, ได้กลิ่น, ชาบู, หอ, มมาก, โปร, บั...\n",
            "\n",
            "[5 rows x 10 columns]\n"
          ],
          "name": "stdout"
        }
      ]
    },
    {
      "cell_type": "markdown",
      "metadata": {
        "id": "pYBZJJYV4xT2"
      },
      "source": [
        "# Top review word for each restaurant"
      ]
    },
    {
      "cell_type": "code",
      "metadata": {
        "colab": {
          "base_uri": "https://localhost:8080/"
        },
        "id": "LslXbYi2mvR-",
        "outputId": "07787af4-2df1-46ee-93a0-e93e6321dcb5"
      },
      "source": [
        "unq_resturant = df.drop_duplicates('Restaurant_ID')['Restaurant']\n",
        "print(unq_resturant)"
      ],
      "execution_count": 11,
      "outputs": [
        {
          "output_type": "stream",
          "text": [
            "0     Mo-Mo-Paradise (โม โม พาราไดซ์) เดอะมอลล์ บางกะปิ\n",
            "8             Shabushi (ชาบูชิ) เดอะมอลล์บางกะปิ ชั้น G\n",
            "16                                        ข้าน้อยขอชาบู\n",
            "Name: Restaurant, dtype: object\n"
          ],
          "name": "stdout"
        }
      ]
    },
    {
      "cell_type": "code",
      "metadata": {
        "id": "C2zNDyJG5E0G"
      },
      "source": [
        "def get_restuant_review_word(unique_resturant):\n",
        "    resturant_review = dict()\n",
        "    for resturant in unique_resturant:\n",
        "        \n",
        "        token_words = []\n",
        "        for reviews in df[df['Restaurant'] == resturant]['words']:\n",
        "            token_words += reviews\n",
        "            resturant_review[resturant] = token_words\n",
        "    return resturant_review"
      ],
      "execution_count": 12,
      "outputs": []
    },
    {
      "cell_type": "code",
      "metadata": {
        "colab": {
          "base_uri": "https://localhost:8080/"
        },
        "id": "vRqVeaJK5I1T",
        "outputId": "2434f61b-0cb2-418f-9508-627bb46d44f6"
      },
      "source": [
        "review_per_resturant = get_restuant_review_word(unq_resturant)\n",
        "print(review_per_resturant)"
      ],
      "execution_count": 13,
      "outputs": [
        {
          "output_type": "stream",
          "text": [
            "{'Mo-Mo-Paradise (โม โม พาราไดซ์) เดอะมอลล์ บางกะปิ': ['บริการ', 'ดีมาก', 'พนักงาน', 'น่ารัก', 'สะอาดสะอ้าน', 'ใส่ใจ', 'ประทับใจ', 'บริการ', 'รสชาติ', 'อาหาร', 'อันนี้', 'แปลก', 'เซ็ท', 'อาหาร', 'จำกัด', 'หลากหลาย', 'พอกับ', 'ความต้องการ', 'เนื้อ', 'สัน', 'คอ', 'ถาด', 'เป็ด', 'แฟน', 'เนื้อ', 'ภาพ', 'ดี', 'น้ำ', 'ซุป', 'ดำ', 'เผ็ด', 'น้ำจิ้ม', 'อร่อย', 'รสชาติ', 'แบบนี้', 'เต้าเจี้ยว', 'เคลม', 'รสชาติ', 'ดี', 'ถาม', 'ราคา', 'โดยรวม', 'คุ้ม', 'โมจิ', 'อร่อย', 'ไอติม', 'อร่อย', 'ไม่ต้อง', 'ข้างนอก', 'สรุป', 'ประทับใจ', 'บริการ', 'คุณภาพ', 'อาหาร', 'นึกถึง', 'ชาบู', 'ญี่ปุ่น', 'คิดถึง', 'โม', 'โม่', 'พาราไดซ์', 'คุณภาพ', 'มาตรา', 'ฐาน', 'มีโอ', 'กา', 'สมาทาน', 'นาที', 'บริการ', 'ดี', 'อาหาร', 'เครื่องดื่ม', 'ที่ทาง', 'ทะยอย', 'แจ้ง', 'รายละเอียด', 'การงด', 'ออร์เดอร์', 'สาขา', 'พนักงานบริการ', 'ดี', 'น่ารัก', 'เป็นกันเอง', 'เหวี่ยง', 'เจอ', 'สาขา', 'พระราม', 'โอเค', 'พนักงาน', 'ทำงาน', 'ctw', 'พรีเมียม', 'บริการ', 'สู้', 'สาขา', 'terminal', 'ลูกค้า', 'นั่ง', 'โต๊ะ', 'หม้อ', 'โต๊ะ', 'ยังมี', 'ฉาก', 'กั้น', 'น้ำ', 'ซุป', 'เลือก', 'รส', 'น้ำจิ้ม', 'แตก', 'ต่างกัน', 'ตามน้ำ', 'ซุป', 'เลือก', 'ชาบู', 'น้ำ', 'ดำ', 'น้ำ', 'ซุป', 'เห็ด', 'ชาบู', 'น้ำ', 'ดำ', 'หวาน', 'เค็ม', 'รสชาติ', 'เข้มข้น', 'เสิร์ฟ', 'ไข่', 'สด', 'เป็นผู้ใหญ่', 'ชอบ', 'หวาน', 'ชอบ', 'น้ำ', 'ซุป', 'เห็ด', 'มีชื่อ', 'ภาษา', 'ญี่ปุ่น', 'เสิร์ฟ', 'เห็ด', 'น้ำจิ้ม', 'ซอย', 'ซอส', 'รสชาติ', 'จืด', 'แนว', 'น้ำ', 'ซุป', 'ใส', 'เนื้อสัตว์', 'เลือก', 'เนื้อวัว', 'เนื้อหมู', 'เนื้อ', 'เป็ด', 'ไก่', 'ไม้', 'ไผ่', 'สั่ง', 'ลอง', 'เนื้อวัว', 'อร่อย', 'ชิ้น', 'เนื้อ', 'นุ่ม', 'ชาบู', 'น้ำ', 'ดำ', 'เข้ากัน', 'เนื้อหมู', 'คุ', 'โร', 'บู', 'ตะ', 'อร่อย', 'นุ่ม', 'ลิ้น', 'เนื้อ', 'เป็ด', 'หนึบ', 'เหนียว', 'คาว', 'จาน', 'รู้สึก', 'ไก่', 'ไม้', 'ไผ่', 'ไก่', 'บด', 'ลืม', 'ถ่ายรูป', 'รสชาติ', 'กรุบ', 'แตา', 'ส่วนตัว', 'โควิด', 'บาร์', 'ผัก', 'น้ำ', 'พนักงาน', 'ตัก', 'อยากได้', 'จิ้ม', 'เลือก', 'ของหวาน', 'ไอติม', 'ไดฟูกุ', 'ลอง', 'สั่ง', 'ไดฟูกุ', 'ไอติม', 'ไหว', 'แย้', 'ววว', 'สั่ง', 'สามรส', 'สตอ', 'เบอ', 'รี่', 'ชาเขียว', 'ถั่ว', 'แดง', 'อร่อย', 'สรุป', 'อร่อย', 'คุ้มค่า', 'ราคา', 'ตก', 'คนละ', 'เนื้อวัว', 'คุ้ม', 'นึกถึง', 'ชาบู', 'เนื้อ', 'ราคา', 'โหด', 'เกินไป', 'นึกถึง', 'โม', 'โม่', 'โปร', 'จ่าย', 'ธรรมดา', 'ส่วนตัว', 'ชอบ', 'เนื้อ', 'ออ', 'ส', 'เกินไป', 'อร่อย', 'เลี่ยน', 'ไว', 'ชอบ', 'ไอศกรีม', 'รส', 'ชาเขียว', 'รส', 'ข้าว', 'สั่ง', 'ถ้วย', 'เดิน', 'หน้า', 'ได้กลิ่น', 'ชาบู', 'หอ', 'มมาก', 'โปร', 'บัตรเครดิต', 'ตัดสินใจ', 'น้ำ', 'ชาบู', 'เลือก', 'เนื้อ', 'สั่ง', 'ผัก', 'เส้น', 'ลูกชิ้น', 'ตัก', 'เลือก', 'หลากหลาย', 'สาขา', 'ที่นั่ง', 'นั่ง', 'เหมือนกับ', 'สาขา', 'ctw', 'ที่จะ', 'แคบ', 'เด็ก', 'นั่ง', 'สบายดี', 'เนื้อ', 'คุณภาพดี', 'บริการ', 'ขนม', 'อร่อย', 'บุ', 'ฟเฟ่', 'ชาบู', 'แนว', 'ญี่ปุ่น', 'สาย', 'เนื้อหมู', 'เนื้อวัว', 'คุ้ม', 'โซน', 'ผัก', 'เลือก', 'หยิบ', 'เนื้อ', 'สั่ง', 'พนักงาน', 'รา', 'คามี', 'โปรโมชั่น', 'ชอบ', 'น้ำจิ้ม', 'พอน', 'ซึ', 'ลอง', 'ของหวาน', 'ชอบ', 'ไอติม', 'บ๋วย', 'อร่อย', 'ดี', 'number', 'โม', 'โม', '–', 'พารา', 'ได', 'ส์', 'สาขา', 'เดอะ', 'มอ', 'ล', 'กะปิ', 'ร้านอาหาร', 'บุ', 'ฟเฟ่', 'สุกี้', 'ชาบู', 'น้ำ', 'ดำ', 'สไตล์', 'ญี่ปุ่น', 'กรรมวิธี', 'ดังเดิม', 'รสชาติ', 'ไทย', 'ประ', 'ยุค', 'ก์', 'menu', 'บุฟเฟ่ต์', 'สุกี้', 'ชาบู', 'น้ำ', 'ดำ', 'รายละเอียด', 'เมนู', 'เลือก', 'น้ำ', 'น้ำจิ้ม', 'พอน', 'ซึ', 'น้ำจิ้ม', 'แบบฉบับ', 'โม', 'โม', 'อาหาร', 'แบ่ง', 'ชุด', 'เซ็ท', 'หมู', 'เนื้อ', 'เลือก', 'ผัก', 'หลาก', 'หลายชนิด', 'ราคา', 'คะแนน', 'ชาบู', 'เฟรนไชส์', 'รสชาติ', 'ดีมาก', 'คุ้มค่า', 'เหมาะสม', 'ราคา', 'ติด', 'เรื่อง', 'น้ำ', 'ซุป', 'ตอนที่', 'งวด', 'เค็ม', 'เป็นปกติ', 'ชาบู', 'อยู่แล้ว', 'น้ำ', 'ชาเขียว', 'ร้อน', 'กาแฟ', 'ทั่วไป', 'ชอบ', 'เนื้อ', 'ออสเตรเลีย', 'ดีมาก', 'หมู', 'สัน', 'คอ', 'รสชาติ', 'ดีมาก', 'แนะนำ', 'น้ำ', 'ซุป', 'สุกี้ยากี้', 'เสิร์ฟ', 'น้ำจิ้ม', 'ไข่ไก่', 'โช', 'ยุ', 'หวาน', 'น', 'ไอศครีม', 'บ๊วย', 'ดี', 'แนะนำ', 'ตำ', 'ลุย'], 'Shabushi (ชาบูชิ) เดอะมอลล์บางกะปิ ชั้น G': ['าน', 'ขา', 'บู', 'ชิ', 'ตอน', 'หิว', 'ไม่งั้น', 'คุ้ม', 'ฮ่า', 'เมนู', 'ของกิน', 'อาหาร', 'สายพาน', 'อาหาร', 'เล่น', 'ซูชิ', 'ปูอัด', 'เกี๊ยว', 'ซ่า', 'กุ้ง', 'เท', 'ม', 'ปุระ', 'ละลานตา', 'ราคา', 'ตอนนี้', 'แพง', 'นิดนึง', 'เทียบ', 'อาหาร', 'แล้วก็', 'คุ้ม', 'ชอบ', 'กุ้ง', 'ทอด', 'เท', 'ม', 'ปุระ', 'กุ้ง', 'เท', 'ม', 'ปุระ', 'คุ้ม', 'ดึก', 'นึก', 'ผิดหวัง', 'กุ้ง', 'เท', 'ม', 'ปุระ', 'กี่', 'ตัว', 'ทอด', 'เติม', 'สมใจ', 'กลาย', 'เป็นมา', 'ชาบู', 'ชิ', 'ทานอาหาร', 'ญี่', 'ปุ', 'นพ', 'วก', 'ซูชิ', 'กุ้ง', 'เท', 'ม', 'ปุระ', 'เป็นหลัก', 'ชาบู', 'อาหารเสริม', 'ซะงั้น', 'เมนู', 'ปลา', 'ไข่', 'ชั่วคราว', 'น้ะ', 'อย่า', 'ลืม', 'ไอติม', 'เย็น', 'ชื่นใจ', 'ตบท้าย', 'กลับมา', 'อัพเดท', 'ราคา', 'ชาบู', 'ชิ', 'ตอนนี้', 'net', 'ชม', 'น้ำ', 'ซุป', 'เลือก', 'รส', 'ซูชิ', 'ลายตา', 'เท', 'ม', 'ปุระ', 'เพลิน', 'ดี', 'ยืน', 'ตรงนั้น', 'ไลน์', 'ของคาว', 'บุฟเฟ่ต์', 'กุ้ง', 'สด', 'เบ', 'เนื้อ', 'สไลด์', 'เป็นหลัก', 'อิ่ม', 'คุ้ม', 'ห่างหาย', 'สำหรับ', 'ชาบู', 'ชิ', 'ขึ้นราคา', 'แถม', 'ลด', 'เวลา', 'คุณภาพ', 'อาหาร', 'ดู', 'แย่', 'ลา', 'กลับมา', 'อีกครั้ง', 'ได้ยิน', 'ข่าว', 'กุ้ง', 'ปอกเปลือก', 'กลับมา', 'งาน', 'กุ้ง', 'shabushi', 'ตั้งอยู่', 'ชั้น', 'g', 'ห้าง', 'เดอะ', 'มอลล์', 'กะปิ', 'ตัว', 'ตั้งอยู่', 'โซน', 'หน้า', 'ห้าง', 'ฝั่ง', 'ติด', 'ถนนใหญ่', 'หาไม่', 'เด่น', 'สำหรับ', 'สาขา', 'เสาร์', 'อาทิตย์', 'วันหยุด', 'รอ', 'คิว', 'สาเหตุ', 'เลิก', 'ธรรมดา', 'จุ', 'แน่น', 'รู้สึก', 'แออัด', 'เหมือนกัน', 'สำหรับ', 'อาหาร', 'สาขา', 'เทียบ', 'สาขา', 'รู้สึก', 'สด', 'สะอาด', 'ระดับ', 'ใช้ได้', 'สายพาน', 'รายการ', 'พนักงาน', 'กุ้ง', 'สด', 'ออกมา', 'ถูกใจ', 'ใจมา', 'กุ้ง', 'ราคา', 'บุฟเฟ่ต์', 'net', 'ชั่วโมง', 'นาที', 'โดยประมาณ', 'อาหาร', 'ซูชิ', 'รสชาติ', 'ธรรมดา', 'ปลาดิบ', 'สด', 'ใช้ได้', 'โอ', 'เด้ง', 'ลูกชิ้น', 'รสชาติ', 'โอเค', 'กุ้ง', 'เท', 'ม', 'ปุระ', 'ทอด', 'กรอ', 'บดี', 'อม', 'น้ำมัน', 'แป้ง', 'หนา', 'เนื้อ', 'สไลด์', 'เนื้อ', 'ติด', 'นุ่ม', 'ดี', 'เบคอน', 'สไลด์', 'นุ่ม', 'หอม', 'อร่อย', 'กุ้ง', 'สด', 'ปอกเปลือก', 'ดี', 'เหมือน', 'กุ้ง', 'ขาดสารอาหาร', 'สด', 'ดี', 'ตัว', 'ใช้ได้', 'คนเดียว', 'จาน', 'หอย', 'ตลับ', 'ตัว', 'สด', 'เนื้อ', 'หวาน', 'เด้ง', 'ดี', 'ตับ', 'หมู', 'สด', 'นุ่ม', 'ดี', 'น้ำ', 'ฝรั่ง', 'เปรี้ยวหวาน', 'ชื่น', 'ใจดี', 'วาง', 'ทิ้ง', 'จืด', 'โฟลต', 'ไอศกรีม', 'วานิลา', 'เมนู', 'ของหวาน', 'ทำ', 'กด', 'สไปรท์', 'ครึ่ง', 'แก้ว', 'ตัก', 'ไอติม', 'วานิลา', 'ลูก', 'ใส่', 'หวาน', 'หอม', 'ชื่น', 'ใจดี', 'โดยรวม', 'สำหรับ', 'มื้อ', 'คุ้ม', 'ผิดหวัง', 'กลับมา', 'อีกครั้ง', 'ติง', 'เรื่อง', 'เวลา', 'ชั่วโมง', 'นาที', 'ส่วนตัว', 'ดู', 'เวลา', 'นิดนึง', 'อย่า', 'เพลิน', 'เวลา', 'ตอน', 'เช็คบิล', 'รอ', 'เช็คบิล', 'คิว', 'เวลา', 'โดน', 'เพื่อน', 'โดน', 'วันก่อน', 'นัด', 'หา', 'ข้าว', 'เดอะ', 'แกงค์', 'ลงเอย', 'อาหาร', 'บุฟเฟ่ต์', 'อยุ่', 'ชั้น', 'g', 'ราคา', 'เวลา', 'ชม', 'รสชาติ', 'อาหารสด', 'ห', 'มุ', 'สไลด์', 'รสชาติ', 'ดี', 'นุ่ม', 'อร่อย', 'ซูชิ', 'ไอศกรีม', 'หลาก', 'รส', 'ว', 'นิ', 'ลา', 'สตอ', 'เบอร์', 'รี่', 'ชอค', 'โก', 'แล', 'ต', 'มะนาว', 'หลายครั้ง', 'เลือก', 'บุฟเฟต์', 'อาราม', 'ณ์', 'รอ', 'คิว', 'สุดท้าย', 'เลิก', 'รอ', 'shabushi', 'โชคดี', 'รอ', 'พลาด', 'รอบ', 'หล่ะ', 'จอง', 'คิว', 'กินที่', 'สาขา', 'เดอะ', 'มอลล์', 'กะปิ', 'ชั้น', 'g', 'ประตู', 'ป', 'เข้าหน้า', 'ห้าง', 'พอได้', 'ที่นั่ง', 'แล้วก็', 'หยิบ', 'ชั่วโมง', 'ครึ่ง', 'พี่', 'เต็ม', 'เนื้อ', 'ผัก', 'ชู', 'ชิ', 'ดู', 'โอเค', 'ผัก', 'ดู', 'สด', 'บุฟเฟต์', 'สายพาน', 'พนักงาน', 'ขยัน', 'เดิน', 'ดี', 'ราคา', 'สาม', 'ร้อย', 'แพง', 'สวัสดี', 'รีวิว', 'ชาบู', 'ชิ', 'บุ', 'ฟเฟ', 'ขวัญใจ', 'เมนู', 'เลือก', 'ระบบ', 'สายพาน', 'ลูกค้า', 'หยิบ', 'ทั่วถึง', 'ข้อดี', 'บริการ', 'เก้', 'บ', 'จาน', 'ใช้แล้ว', 'นํ้า', 'ซุป', 'เลือก', 'ต้องการ', 'นํ้า', 'จิ้ม', 'อร่อย', 'มี่', 'ลอง', 'ดู', 'อร่อย', 'คุ้ม', 'ชาบู', 'ชิ', 'สาขา', 'เดอะ', 'มอลล์', 'กะปิ', 'ตั้งอยู่', 'ประตู', 'หน้า', 'ห้าง', 'ตรงข้าม', 'แมค', 'โด', 'นัล', 'ขนาด', 'ดี', 'คิว', 'โชคชะตา', 'ห้าง', 'ซุ้ม', 'ออกร้าน', 'โน้น', 'บริเวณ', 'ลาน', 'หน้า', 'เลือก', 'ชอป', 'เบา', 'รอ', 'กลยุทธ์', 'ดีมาก', 'เคาน์เตอร์', 'หน้า', 'สายพาน', 'เป็นแนว', 'หม้อ', 'หม้อ', 'ท่าน', 'โต๊ะ', 'หมู่คณะ', 'หม้อ', 'อาหาร', 'สายพาน', 'เคลื่อนตัว', 'เลือก', 'คอ', 'เนื้อ', 'แน่น', 'จาน', 'ดำ', 'หยิบ', 'วาง', 'ต้ม', 'ค่า', 'น้ำ', 'ซุป', 'เลือก', 'ใส', 'ข้น', 'ต้มยำ', 'อิอิ', 'คุณภาพ', 'อาหาร', 'ปรับปรุง', 'ดีขึ้น', 'เล่น', 'ชู', 'ชิ', 'ข้าวปั้น', 'ทอด', 'สลัด', 'ของหวาน', 'ไอติม', 'เมนู', 'มากขึ้น', 'เติม', 'ยอด', 'คุ้มค่า', 'ราคา', 'xx', 'แถม', 'บัตรสมาชิก', 'เครือ', 'โออิชิ', 'ลด', 'มันดี', 'ตรงนี้', 'ค่า', '^^'], 'ข้าน้อยขอชาบู': ['หลังจากที่', 'ลอง', 'สาขา', 'ยู', 'นม', 'อลล์', 'รอบ', 'สาขา', 'เดอะ', 'มอลล์', 'กะปิ', 'ชั้น', 'โซน', 'mcc', 'hall', 'ด้านใน', 'ติดกับ', 'ค่ายมวย', 'ตอนแรก', 'นึก', 'ชาบู', 'ธรรมดา', 'ที่ไหนได้', 'พิซซ่า', 'นา', 'พิซ', 'เซ', 'อเรีย', 'สำหรับ', 'ราคา', 'หมู', 'พิซซ่า', 'ทอด', 'ซุป', 'แกงเขียวหวาน', 'น้ำ', 'ซุป', 'รสชาติ', 'อยากได้', 'น้ำ', 'ซุป', 'รสชาติ', 'จ่าย', 'คนละ', 'น้ำดื่ม', 'รี', 'ฟี', 'ล', 'เนื้อ', 'คนละ', 'ซูชิ', 'ของหวาน', 'สั่ง', 'จ่าย', 'ราคา', 'เมนู', 'อิ่ม', 'คุ้ม', 'ดี', 'เบ', 'น้ำ', 'ซุป', 'เข้มข้น', 'ราคา', 'ตัวเลือก', 'หิว', 'แวะ', 'แน่นอน', 'บุฟเฟ่ต์', 'โปรโมชั่น', 'หัว', 'น้ำ', 'vat', 'ธรรมดา', 'ชอบ', 'ได้เวลา', 'ชม', 'เต็ม', 'ค่าน้ำ', 'ซุป', 'คนละ', 'น้ำ', 'ซุป', 'เลือก', 'หม้อ', 'แบ่ง', 'ช่อง', 'น้ำ', 'ซึป', 'ต้มยำ', 'อร่อย', 'ดี', 'แนะนำ', 'เลือก', 'อันนี้', 'นึง', 'ชุด', 'บุฟเฟ่ต์', 'ซี', 'ฟู้ด', 'อาหาร', 'เลือก', 'พิซซ่า', 'ชุด', 'บุฟเฟ่ต์', 'นา', 'พิซ', 'เซ', 'อเรีย', 'รับประกัน', 'อร่อย', 'สัปดาห์', 'หวย', 'ลอตเตอรี่', 'ถูกหวย', 'แลก', 'ฮัน', 'โทส', 'ฟรี', 'แนะนำ', 'บุฟเฟ่ต์', 'กำ', 'เงิน', 'คนละ', 'ทอน', 'แน่นอน', 'รู้จัก', 'union', 'mall', 'ลอง', 'จำได้', 'ขึ้นใจ', 'ชื่อ', '😆', 'ชื่อ', 'อยู่แล้ว', 'ชาบู', 'narai', 'pizzeria', 'ไลน์', 'อาหาร', 'pizza', 'ยังมี', 'สปา', 'เก', 'ตตี้', 'ไก่', 'นิว', 'ออ', 'ลี', 'น', 'อาหาร', 'ปรุง', 'สุก', 'รู้สึก', 'อร่อย', 'ข้าวมันไก่', '🤣', 'ตัดกำลัง', 'ของสด', 'หลากหลาย', 'บางส่วน', 'ตู้', 'หยิบ', 'บางส่วน', 'สั่ง', 'คุณภาพ', 'เหมาะสม', 'ราคา', 'บริการ', 'ดี', 'พนักงาน', 'ขยัน', 'อร่อย', 'คุ้มค่า', 'สมราคา', 'บุ', 'ฟเฟ่', 'หมู', 'ผัก', 'น้ำ', 'จบ', 'ท่าน', 'เด็ด', 'พิซซ่า', 'บุพ', 'เฟ่', 'ดี', 'เริส', 'รส', 'ชาต', 'กา', 'ไก่', 'เรย', 'งาน', 'ดี', 'เ', 'เป้ง', 'นุ่ม', 'หอ', 'มมาก', 'ตบท้าย', 'ของหวาน', 'อร่อย', 'โชค', 'ดีมาก', 'โปรโมชั่น', 'ของหวาน', 'ราคา', 'เซต', 'ไอติม', 'บรา', 'ว', 'วิป', 'ครีม', 'อร่อย', 'ย', 'บุ', 'ฟเฟ่', 'จุก', 'ปิดท้าย', 'ของหวาน', 'เเบบ', 'สวย', 'จ่าย', 'ราคา', 'จ่าย', 'เงินสด', 'ราคา', 'น้ำ', 'vat', 'สั่ง', 'เนื้อวัว', 'ซูชิ', 'ของหวาน', 'ดู', 'แปลก', 'โอเค', 'ซูชิ', 'สั่ง', 'อาหาร', 'ทดแทน', 'โดยเฉพาะ', 'พิซซ่า', 'ลอง', 'หน้า', 'อร่อย', 'ตอน', 'สด', 'ร้อน', 'อร่อย', 'ปรกติ']}\n"
          ],
          "name": "stdout"
        }
      ]
    },
    {
      "cell_type": "code",
      "metadata": {
        "colab": {
          "base_uri": "https://localhost:8080/",
          "height": 780
        },
        "id": "1KN6r9Ej5eXV",
        "outputId": "c6616c5e-3cb2-457e-872e-d767dd8bcab3"
      },
      "source": [
        "for key, value in review_per_resturant.items():\n",
        "\n",
        "    counts = Counter(value)     # Count number of word\n",
        "    dict_counts = dict(counts)\n",
        "    dict_count_sort = {k: v for k, v in sorted(dict_counts.items(), key=lambda item: item[1], reverse=True)} # Sort by number of counts\n",
        "    top_10_word = dict(itertools.islice(dict_count_sort.items(), 10))\n",
        "    \n",
        "    plt.bar(range(len(top_10_word)), list(top_10_word.values()), align='center')\n",
        "    plt.title = key\n",
        "    plt.xticks(range(len(top_10_word)), list(top_10_word.keys()))\n",
        "    plt.show()\n",
        "    #plt.savefig(key + \".png\")"
      ],
      "execution_count": 14,
      "outputs": [
        {
          "output_type": "display_data",
          "data": {
            "image/png": "[encoded data removed]",
            "text/plain": [
              "<Figure size 432x288 with 1 Axes>"
            ]
          },
          "metadata": {
            "tags": [],
            "needs_background": "light"
          }
        },
        {
          "output_type": "display_data",
          "data": {
            "image/png": "[encoded data removed]",
            "text/plain": [
              "<Figure size 432x288 with 1 Axes>"
            ]
          },
          "metadata": {
            "tags": [],
            "needs_background": "light"
          }
        },
        {
          "output_type": "display_data",
          "data": {
            "image/png": "[encoded data removed]",
            "text/plain": [
              "<Figure size 432x288 with 1 Axes>"
            ]
          },
          "metadata": {
            "tags": [],
            "needs_background": "light"
          }
        }
      ]
    },
    {
      "cell_type": "markdown",
      "metadata": {
        "id": "XHJWp2VbStH7"
      },
      "source": [
        "# Prepare data for LDA Analysis"
      ]
    },
    {
      "cell_type": "code",
      "metadata": {
        "id": "vXrzwld7q9PO"
      },
      "source": [
        "# Create dictionary\n",
        "id2word = corpora.Dictionary(df.words.to_list())"
      ],
      "execution_count": 15,
      "outputs": []
    },
    {
      "cell_type": "code",
      "metadata": {
        "id": "jMc1Ho-LriBe"
      },
      "source": [
        "# Create Corpus\n",
        "texts = df.words.to_list()"
      ],
      "execution_count": 16,
      "outputs": []
    },
    {
      "cell_type": "code",
      "metadata": {
        "id": "bKw6Zii_rnND"
      },
      "source": [
        "# Term Document Frequency\n",
        "corpus = [id2word.doc2bow(text) for text in texts]"
      ],
      "execution_count": 17,
      "outputs": []
    },
    {
      "cell_type": "code",
      "metadata": {
        "colab": {
          "base_uri": "https://localhost:8080/"
        },
        "id": "VRoKn7M0rro4",
        "outputId": "6ce4bf1a-12c9-405b-d3ab-32d168233ebe"
      },
      "source": [
        "print(corpus)"
      ],
      "execution_count": 18,
      "outputs": [
        {
          "output_type": "stream",
          "text": [
            "[[(0, 1), (1, 1), (2, 1), (3, 1), (4, 1), (5, 1), (6, 1), (7, 1), (8, 2), (9, 1), (10, 1), (11, 1), (12, 1), (13, 1), (14, 1), (15, 3), (16, 2), (17, 1), (18, 1), (19, 1), (20, 3), (21, 1), (22, 1), (23, 1), (24, 1), (25, 1), (26, 3), (27, 1), (28, 3), (29, 1), (30, 1), (31, 1), (32, 2), (33, 1), (34, 1), (35, 1), (36, 1), (37, 1), (38, 1), (39, 1), (40, 1), (41, 1), (42, 1)], [(3, 1), (8, 2), (12, 1), (15, 2), (17, 1), (28, 1), (43, 1), (44, 1), (45, 1), (46, 1), (47, 1), (48, 1), (49, 1), (50, 1), (51, 1), (52, 1), (53, 1), (54, 1), (55, 1), (56, 1), (57, 1), (58, 1), (59, 1), (60, 1), (61, 1), (62, 1), (63, 1), (64, 1), (65, 3), (66, 1), (67, 1), (68, 1), (69, 1), (70, 1), (71, 1), (72, 1), (73, 1), (74, 1), (75, 1)], [(4, 1), (6, 5), (7, 3), (13, 8), (14, 2), (17, 1), (20, 3), (21, 1), (22, 1), (26, 4), (32, 3), (33, 2), (42, 2), (48, 3), (49, 1), (76, 1), (77, 1), (78, 1), (79, 1), (80, 1), (81, 1), (82, 1), (83, 1), (84, 1), (85, 1), (86, 1), (87, 2), (88, 1), (89, 1), (90, 1), (91, 1), (92, 1), (93, 1), (94, 1), (95, 1), (96, 1), (97, 1), (98, 1), (99, 1), (100, 2), (101, 1), (102, 1), (103, 1), (104, 1), (105, 1), (106, 1), (107, 1), (108, 1), (109, 1), (110, 1), (111, 2), (112, 1), (113, 1), (114, 1), (115, 1), (116, 1), (117, 3), (118, 1), (119, 1), (120, 1), (121, 1), (122, 2), (123, 1), (124, 1), (125, 1), (126, 1), (127, 3), (128, 1), (129, 2), (130, 1), (131, 1), (132, 4), (133, 2), (134, 1), (135, 3), (136, 1), (137, 1), (138, 1), (139, 1), (140, 1), (141, 1), (142, 2), (143, 1), (144, 1), (145, 3), (146, 1), (147, 2), (148, 2), (149, 2), (150, 1)], [(21, 1), (26, 1), (32, 2), (48, 1), (55, 2), (73, 1), (74, 1), (87, 2), (88, 1), (108, 2), (117, 1), (119, 1), (151, 1), (152, 1), (153, 1), (154, 1), (155, 1), (156, 1), (157, 2), (158, 1), (159, 1), (160, 1), (161, 1), (162, 1)], [(13, 1), (15, 1), (25, 1), (26, 1), (32, 2), (43, 1), (48, 2), (65, 2), (94, 1), (99, 2), (104, 1), (117, 1), (132, 2), (159, 1), (163, 1), (164, 1), (165, 1), (166, 1), (167, 1), (168, 1), (169, 1), (170, 1), (171, 1), (172, 1), (173, 1), (174, 1), (175, 1), (176, 1), (177, 1), (178, 1), (179, 1)], [(4, 1), (8, 1), (14, 1), (17, 1), (26, 1), (32, 1), (42, 1), (48, 1), (49, 1), (78, 1), (87, 2), (104, 1), (111, 1), (117, 1), (127, 1), (129, 1), (132, 1), (139, 1), (180, 1), (181, 1), (182, 1), (183, 1), (184, 1), (185, 1), (186, 1), (187, 1), (188, 1), (189, 1), (190, 1)], [(7, 2), (13, 3), (14, 2), (20, 1), (21, 1), (28, 1), (30, 1), (32, 1), (48, 2), (49, 1), (62, 1), (65, 1), (73, 4), (104, 1), (132, 2), (181, 1), (182, 1), (184, 1), (185, 1), (191, 1), (192, 1), (193, 1), (194, 1), (195, 1), (196, 1), (197, 1), (198, 1), (199, 1), (200, 1), (201, 1), (202, 1), (203, 1), (204, 1), (205, 1), (206, 2), (207, 1), (208, 1), (209, 1), (210, 1), (211, 1), (212, 1), (213, 1), (214, 1), (215, 1), (216, 1), (217, 1), (218, 1)], [(2, 1), (6, 2), (8, 1), (9, 3), (13, 3), (14, 1), (20, 2), (21, 1), (24, 1), (32, 1), (48, 2), (82, 1), (87, 1), (88, 1), (122, 1), (126, 1), (133, 1), (209, 1), (219, 1), (220, 1), (221, 1), (222, 1), (223, 1), (224, 1), (225, 1), (226, 1), (227, 1), (228, 1), (229, 1), (230, 1), (231, 1), (232, 1), (233, 1), (234, 1), (235, 1), (236, 1), (237, 2), (238, 1), (239, 1), (240, 1)], [(4, 2), (21, 1), (28, 3), (103, 1), (213, 1), (241, 1), (242, 1), (243, 1), (244, 1), (245, 1), (246, 1), (247, 1), (248, 1), (249, 1), (250, 1), (251, 1), (252, 1), (253, 1), (254, 1), (255, 1), (256, 1), (257, 1), (258, 1), (259, 1), (260, 1), (261, 1), (262, 1), (263, 1), (264, 1)], [(4, 1), (42, 1), (48, 2), (87, 1), (113, 1), (146, 1), (213, 1), (241, 4), (244, 1), (245, 1), (250, 4), (252, 4), (259, 4), (265, 1), (266, 1), (267, 1), (268, 1), (269, 1), (270, 1), (271, 1), (272, 1), (273, 1), (274, 2), (275, 1), (276, 1), (277, 1), (278, 1), (279, 1), (280, 1), (281, 1), (282, 1), (283, 1), (284, 1), (285, 1), (286, 1), (287, 1), (288, 1), (289, 1)], [(4, 1), (6, 1), (8, 1), (13, 1), (21, 1), (32, 1), (48, 1), (108, 1), (115, 1), (132, 1), (199, 1), (241, 1), (244, 1), (245, 1), (248, 1), (250, 1), (252, 1), (259, 1), (288, 1), (290, 1), (291, 1), (292, 1), (293, 1), (294, 1), (295, 1), (296, 1), (297, 1), (298, 1), (299, 1), (300, 1), (301, 1), (302, 1)], [(3, 1), (4, 1), (8, 5), (13, 1), (17, 1), (20, 2), (21, 1), (26, 1), (28, 3), (32, 3), (38, 1), (42, 1), (48, 1), (54, 2), (65, 3), (75, 1), (78, 1), (83, 1), (85, 1), (94, 1), (100, 3), (110, 2), (115, 7), (119, 1), (122, 2), (154, 2), (162, 1), (170, 1), (172, 1), (189, 1), (194, 1), (199, 1), (209, 1), (212, 1), (213, 1), (223, 2), (235, 1), (241, 7), (244, 1), (245, 1), (247, 1), (249, 1), (250, 1), (252, 1), (254, 1), (259, 1), (260, 1), (273, 3), (274, 1), (281, 1), (284, 1), (290, 1), (291, 3), (297, 2), (301, 1), (303, 1), (304, 1), (305, 1), (306, 1), (307, 1), (308, 1), (309, 1), (310, 1), (311, 1), (312, 2), (313, 1), (314, 1), (315, 2), (316, 1), (317, 2), (318, 2), (319, 1), (320, 1), (321, 2), (322, 1), (323, 1), (324, 1), (325, 1), (326, 1), (327, 1), (328, 1), (329, 1), (330, 2), (331, 1), (332, 1), (333, 1), (334, 1), (335, 2), (336, 1), (337, 1), (338, 1), (339, 1), (340, 1), (341, 1), (342, 1), (343, 2), (344, 1), (345, 1), (346, 4), (347, 1), (348, 1), (349, 2), (350, 1), (351, 1), (352, 1), (353, 2), (354, 1), (355, 1), (356, 1), (357, 2), (358, 2), (359, 1), (360, 2), (361, 1), (362, 1), (363, 1), (364, 1), (365, 5), (366, 1), (367, 1), (368, 1), (369, 1), (370, 1), (371, 1), (372, 1), (373, 1), (374, 1), (375, 2), (376, 1), (377, 1), (378, 1), (379, 2), (380, 1), (381, 3), (382, 1), (383, 1)], [(8, 1), (20, 2), (21, 1), (26, 1), (28, 1), (100, 1), (108, 1), (109, 1), (116, 1), (151, 1), (162, 1), (199, 1), (210, 1), (212, 1), (245, 1), (293, 1), (297, 1), (303, 1), (316, 1), (339, 1), (365, 1), (384, 1), (385, 1), (386, 1), (387, 1), (388, 1), (389, 1), (390, 1), (391, 1), (392, 1), (393, 1), (394, 1), (395, 1), (396, 1), (397, 1), (398, 1), (399, 1), (400, 1)], [(8, 1), (17, 1), (21, 1), (32, 1), (65, 1), (75, 1), (104, 2), (115, 1), (132, 1), (167, 1), (174, 1), (188, 1), (194, 1), (212, 1), (244, 1), (254, 1), (262, 1), (263, 1), (303, 1), (304, 1), (311, 1), (312, 2), (315, 1), (316, 1), (318, 2), (333, 1), (335, 3), (353, 1), (364, 1), (401, 1), (402, 1), (403, 1), (404, 1), (405, 1), (406, 2), (407, 1), (408, 1), (409, 1), (410, 1), (411, 1), (412, 1), (413, 1), (414, 1), (415, 1), (416, 1), (417, 1), (418, 1), (419, 1), (420, 1), (421, 1)], [(4, 1), (6, 1), (15, 1), (26, 2), (48, 1), (63, 1), (83, 1), (84, 1), (111, 1), (132, 2), (182, 1), (188, 1), (213, 1), (244, 1), (254, 1), (318, 1), (422, 1), (423, 1), (424, 1), (425, 1), (426, 2), (427, 1), (428, 1), (429, 1), (430, 1), (431, 1), (432, 1), (433, 1), (434, 1)], [(2, 1), (3, 1), (6, 1), (7, 1), (8, 1), (9, 1), (13, 1), (21, 1), (28, 2), (32, 1), (42, 1), (48, 1), (65, 1), (78, 1), (82, 1), (83, 1), (121, 3), (132, 3), (142, 1), (144, 1), (172, 3), (188, 1), (194, 1), (212, 1), (213, 1), (244, 2), (254, 2), (261, 1), (274, 1), (286, 1), (312, 1), (321, 1), (333, 1), (335, 1), (338, 1), (342, 1), (353, 2), (370, 1), (371, 1), (404, 1), (408, 1), (435, 1), (436, 1), (437, 1), (438, 1), (439, 1), (440, 1), (441, 2), (442, 1), (443, 1), (444, 1), (445, 1), (446, 1), (447, 1), (448, 1), (449, 1), (450, 1), (451, 1), (452, 1), (453, 1), (454, 1), (455, 1), (456, 1), (457, 1), (458, 1), (459, 1), (460, 1), (461, 1), (462, 1), (463, 1), (464, 1), (465, 1), (466, 1), (467, 1), (468, 1), (469, 1), (470, 1), (471, 1)], [(4, 1), (6, 4), (8, 1), (13, 3), (20, 2), (21, 3), (32, 1), (48, 1), (65, 2), (78, 1), (79, 2), (111, 1), (117, 1), (123, 1), (124, 1), (152, 2), (154, 1), (189, 1), (194, 1), (205, 1), (209, 1), (212, 1), (213, 1), (245, 1), (255, 1), (274, 1), (277, 1), (299, 1), (300, 1), (316, 1), (333, 1), (346, 1), (412, 1), (472, 1), (473, 1), (474, 1), (475, 1), (476, 1), (477, 1), (478, 1), (479, 1), (480, 1), (481, 1), (482, 1), (483, 1), (484, 2), (485, 1), (486, 1), (487, 1), (488, 1), (489, 1), (490, 1), (491, 1), (492, 1), (493, 1), (494, 1)], [(6, 2), (8, 1), (13, 3), (26, 2), (27, 1), (28, 1), (79, 2), (87, 1), (121, 1), (132, 3), (154, 1), (190, 1), (197, 2), (199, 4), (215, 1), (237, 2), (293, 1), (420, 1), (448, 1), (481, 1), (483, 1), (484, 1), (490, 1), (491, 1), (493, 1), (495, 1), (496, 1), (497, 1), (498, 1), (499, 1), (500, 1), (501, 1), (502, 1), (503, 1), (504, 1), (505, 1), (506, 1), (507, 1), (508, 1), (509, 1), (510, 1), (511, 1), (512, 1), (513, 1), (514, 1), (515, 1)], [(3, 1), (8, 1), (15, 1), (17, 1), (21, 1), (25, 1), (26, 1), (28, 2), (48, 1), (107, 1), (110, 1), (111, 1), (117, 1), (145, 1), (156, 1), (188, 1), (225, 1), (231, 1), (236, 1), (302, 1), (402, 1), (516, 1), (517, 1), (518, 1), (519, 1), (520, 1), (521, 1), (522, 1), (523, 1), (524, 1), (525, 2), (526, 1), (527, 1), (528, 1), (529, 1), (530, 2), (531, 1), (532, 1), (533, 1), (534, 1), (535, 1), (536, 1), (537, 1), (538, 1)], [(8, 2), (9, 1), (13, 1), (21, 1), (26, 3), (42, 1), (45, 1), (78, 3), (82, 1), (100, 1), (104, 1), (108, 1), (145, 1), (169, 1), (173, 1), (182, 2), (185, 2), (190, 1), (209, 1), (272, 1), (313, 1), (391, 1), (449, 1), (484, 1), (539, 1), (540, 1), (541, 1), (542, 1), (543, 1), (544, 1), (545, 1), (546, 1), (547, 1), (548, 1), (549, 1), (550, 1), (551, 1), (552, 1), (553, 1), (554, 1), (555, 1), (556, 1), (557, 1), (558, 1)], [(13, 1), (21, 2), (26, 2), (28, 1), (36, 1), (75, 1), (78, 1), (111, 1), (115, 1), (117, 2), (127, 1), (152, 2), (172, 1), (228, 1), (245, 2), (247, 1), (318, 1), (484, 1), (495, 1), (559, 1), (560, 1), (561, 1), (562, 1)]]\n"
          ],
          "name": "stdout"
        }
      ]
    },
    {
      "cell_type": "markdown",
      "metadata": {
        "id": "6hAW8Vwqrzs3"
      },
      "source": [
        "# LDA Model Trainning"
      ]
    },
    {
      "cell_type": "code",
      "metadata": {
        "colab": {
          "base_uri": "https://localhost:8080/"
        },
        "id": "56blsUYgrr0-",
        "outputId": "96256365-1a24-4b1f-ce89-e6911770145d"
      },
      "source": [
        "from pprint import pprint\n",
        "# number of topics\n",
        "num_topics = 3\n",
        "# Build LDA model\n",
        "lda_model = gensim.models.LdaMulticore(corpus=corpus,\n",
        "                                       id2word=id2word,\n",
        "                                       num_topics=num_topics)\n",
        "# Print the Keyword in the 3 topics\n",
        "pprint(lda_model.print_topics())\n",
        "doc_lda = lda_model[corpus]"
      ],
      "execution_count": 19,
      "outputs": [
        {
          "output_type": "stream",
          "text": [
            "[(0,\n",
            "  '0.019*\"น้ำ\" + 0.013*\"ชาบู\" + 0.012*\"เนื้อ\" + 0.011*\"เลือก\" + 0.010*\"สาขา\" + '\n",
            "  '0.010*\"ซุป\" + 0.009*\"ดี\" + 0.009*\"รสชาติ\" + 0.008*\"ดีมาก\" + 0.008*\"อร่อย\"'),\n",
            " (1,\n",
            "  '0.016*\"อาหาร\" + 0.015*\"ราคา\" + 0.015*\"อร่อย\" + 0.015*\"ดี\" + 0.013*\"ชาบู\" + '\n",
            "  '0.013*\"กุ้ง\" + 0.012*\"เนื้อ\" + 0.011*\"น้ำ\" + 0.010*\"สาขา\" + 0.009*\"รสชาติ\"'),\n",
            " (2,\n",
            "  '0.023*\"น้ำ\" + 0.017*\"เลือก\" + 0.015*\"ซุป\" + 0.015*\"อร่อย\" + 0.011*\"ชอบ\" + '\n",
            "  '0.009*\"เนื้อ\" + 0.009*\"บุฟเฟ่ต์\" + 0.009*\"ดี\" + 0.009*\"รสชาติ\" + '\n",
            "  '0.008*\"สั่ง\"')]\n"
          ],
          "name": "stdout"
        },
        {
          "output_type": "stream",
          "text": [
            "/usr/local/lib/python3.7/dist-packages/gensim/models/ldamodel.py:1077: DeprecationWarning: Calling np.sum(generator) is deprecated, and in the future will give a different result. Use np.sum(np.fromiter(generator)) or the python sum builtin instead.\n",
            "  score += np.sum(cnt * logsumexp(Elogthetad + Elogbeta[:, int(id)]) for id, cnt in doc)\n",
            "/usr/local/lib/python3.7/dist-packages/gensim/models/ldamodel.py:1077: DeprecationWarning: Calling np.sum(generator) is deprecated, and in the future will give a different result. Use np.sum(np.fromiter(generator)) or the python sum builtin instead.\n",
            "  score += np.sum(cnt * logsumexp(Elogthetad + Elogbeta[:, int(id)]) for id, cnt in doc)\n",
            "/usr/local/lib/python3.7/dist-packages/gensim/models/ldamodel.py:1077: DeprecationWarning: Calling np.sum(generator) is deprecated, and in the future will give a different result. Use np.sum(np.fromiter(generator)) or the python sum builtin instead.\n",
            "  score += np.sum(cnt * logsumexp(Elogthetad + Elogbeta[:, int(id)]) for id, cnt in doc)\n",
            "/usr/local/lib/python3.7/dist-packages/gensim/models/ldamodel.py:1077: DeprecationWarning: Calling np.sum(generator) is deprecated, and in the future will give a different result. Use np.sum(np.fromiter(generator)) or the python sum builtin instead.\n",
            "  score += np.sum(cnt * logsumexp(Elogthetad + Elogbeta[:, int(id)]) for id, cnt in doc)\n",
            "/usr/local/lib/python3.7/dist-packages/gensim/models/ldamodel.py:1077: DeprecationWarning: Calling np.sum(generator) is deprecated, and in the future will give a different result. Use np.sum(np.fromiter(generator)) or the python sum builtin instead.\n",
            "  score += np.sum(cnt * logsumexp(Elogthetad + Elogbeta[:, int(id)]) for id, cnt in doc)\n",
            "/usr/local/lib/python3.7/dist-packages/gensim/models/ldamodel.py:1077: DeprecationWarning: Calling np.sum(generator) is deprecated, and in the future will give a different result. Use np.sum(np.fromiter(generator)) or the python sum builtin instead.\n",
            "  score += np.sum(cnt * logsumexp(Elogthetad + Elogbeta[:, int(id)]) for id, cnt in doc)\n",
            "/usr/local/lib/python3.7/dist-packages/gensim/models/ldamodel.py:1077: DeprecationWarning: Calling np.sum(generator) is deprecated, and in the future will give a different result. Use np.sum(np.fromiter(generator)) or the python sum builtin instead.\n",
            "  score += np.sum(cnt * logsumexp(Elogthetad + Elogbeta[:, int(id)]) for id, cnt in doc)\n",
            "/usr/local/lib/python3.7/dist-packages/gensim/models/ldamodel.py:1077: DeprecationWarning: Calling np.sum(generator) is deprecated, and in the future will give a different result. Use np.sum(np.fromiter(generator)) or the python sum builtin instead.\n",
            "  score += np.sum(cnt * logsumexp(Elogthetad + Elogbeta[:, int(id)]) for id, cnt in doc)\n",
            "/usr/local/lib/python3.7/dist-packages/gensim/models/ldamodel.py:1077: DeprecationWarning: Calling np.sum(generator) is deprecated, and in the future will give a different result. Use np.sum(np.fromiter(generator)) or the python sum builtin instead.\n",
            "  score += np.sum(cnt * logsumexp(Elogthetad + Elogbeta[:, int(id)]) for id, cnt in doc)\n",
            "/usr/local/lib/python3.7/dist-packages/gensim/models/ldamodel.py:1077: DeprecationWarning: Calling np.sum(generator) is deprecated, and in the future will give a different result. Use np.sum(np.fromiter(generator)) or the python sum builtin instead.\n",
            "  score += np.sum(cnt * logsumexp(Elogthetad + Elogbeta[:, int(id)]) for id, cnt in doc)\n",
            "/usr/local/lib/python3.7/dist-packages/gensim/models/ldamodel.py:1077: DeprecationWarning: Calling np.sum(generator) is deprecated, and in the future will give a different result. Use np.sum(np.fromiter(generator)) or the python sum builtin instead.\n",
            "  score += np.sum(cnt * logsumexp(Elogthetad + Elogbeta[:, int(id)]) for id, cnt in doc)\n",
            "/usr/local/lib/python3.7/dist-packages/gensim/models/ldamodel.py:1077: DeprecationWarning: Calling np.sum(generator) is deprecated, and in the future will give a different result. Use np.sum(np.fromiter(generator)) or the python sum builtin instead.\n",
            "  score += np.sum(cnt * logsumexp(Elogthetad + Elogbeta[:, int(id)]) for id, cnt in doc)\n",
            "/usr/local/lib/python3.7/dist-packages/gensim/models/ldamodel.py:1077: DeprecationWarning: Calling np.sum(generator) is deprecated, and in the future will give a different result. Use np.sum(np.fromiter(generator)) or the python sum builtin instead.\n",
            "  score += np.sum(cnt * logsumexp(Elogthetad + Elogbeta[:, int(id)]) for id, cnt in doc)\n",
            "/usr/local/lib/python3.7/dist-packages/gensim/models/ldamodel.py:1077: DeprecationWarning: Calling np.sum(generator) is deprecated, and in the future will give a different result. Use np.sum(np.fromiter(generator)) or the python sum builtin instead.\n",
            "  score += np.sum(cnt * logsumexp(Elogthetad + Elogbeta[:, int(id)]) for id, cnt in doc)\n",
            "/usr/local/lib/python3.7/dist-packages/gensim/models/ldamodel.py:1077: DeprecationWarning: Calling np.sum(generator) is deprecated, and in the future will give a different result. Use np.sum(np.fromiter(generator)) or the python sum builtin instead.\n",
            "  score += np.sum(cnt * logsumexp(Elogthetad + Elogbeta[:, int(id)]) for id, cnt in doc)\n",
            "/usr/local/lib/python3.7/dist-packages/gensim/models/ldamodel.py:1077: DeprecationWarning: Calling np.sum(generator) is deprecated, and in the future will give a different result. Use np.sum(np.fromiter(generator)) or the python sum builtin instead.\n",
            "  score += np.sum(cnt * logsumexp(Elogthetad + Elogbeta[:, int(id)]) for id, cnt in doc)\n",
            "/usr/local/lib/python3.7/dist-packages/gensim/models/ldamodel.py:1077: DeprecationWarning: Calling np.sum(generator) is deprecated, and in the future will give a different result. Use np.sum(np.fromiter(generator)) or the python sum builtin instead.\n",
            "  score += np.sum(cnt * logsumexp(Elogthetad + Elogbeta[:, int(id)]) for id, cnt in doc)\n",
            "/usr/local/lib/python3.7/dist-packages/gensim/models/ldamodel.py:1077: DeprecationWarning: Calling np.sum(generator) is deprecated, and in the future will give a different result. Use np.sum(np.fromiter(generator)) or the python sum builtin instead.\n",
            "  score += np.sum(cnt * logsumexp(Elogthetad + Elogbeta[:, int(id)]) for id, cnt in doc)\n",
            "/usr/local/lib/python3.7/dist-packages/gensim/models/ldamodel.py:1077: DeprecationWarning: Calling np.sum(generator) is deprecated, and in the future will give a different result. Use np.sum(np.fromiter(generator)) or the python sum builtin instead.\n",
            "  score += np.sum(cnt * logsumexp(Elogthetad + Elogbeta[:, int(id)]) for id, cnt in doc)\n",
            "/usr/local/lib/python3.7/dist-packages/gensim/models/ldamodel.py:1077: DeprecationWarning: Calling np.sum(generator) is deprecated, and in the future will give a different result. Use np.sum(np.fromiter(generator)) or the python sum builtin instead.\n",
            "  score += np.sum(cnt * logsumexp(Elogthetad + Elogbeta[:, int(id)]) for id, cnt in doc)\n",
            "/usr/local/lib/python3.7/dist-packages/gensim/models/ldamodel.py:1077: DeprecationWarning: Calling np.sum(generator) is deprecated, and in the future will give a different result. Use np.sum(np.fromiter(generator)) or the python sum builtin instead.\n",
            "  score += np.sum(cnt * logsumexp(Elogthetad + Elogbeta[:, int(id)]) for id, cnt in doc)\n"
          ],
          "name": "stderr"
        }
      ]
    },
    {
      "cell_type": "markdown",
      "metadata": {
        "id": "yl6Eki7PsLUI"
      },
      "source": [
        "# LDA model visualize"
      ]
    },
    {
      "cell_type": "code",
      "metadata": {
        "colab": {
          "base_uri": "https://localhost:8080/",
          "height": 915
        },
        "id": "9uiyQ5mvrsBH",
        "outputId": "9183cdbd-d889-4731-cf9b-374871cf1428"
      },
      "source": [
        "# import pyLDAvis.gensim\n",
        "import pyLDAvis\n",
        "import pyLDAvis.gensim_models as gensimvis\n",
        "\n",
        "import pickle \n",
        "import pyLDAvis\n",
        "# Visualize the topics\n",
        "pyLDAvis.enable_notebook()\n",
        "gensimvis.prepare(lda_model, corpus, id2word)\n",
        "\n"
      ],
      "execution_count": 20,
      "outputs": [
        {
          "output_type": "stream",
          "text": [
            "/usr/local/lib/python3.7/dist-packages/pyLDAvis/_prepare.py:247: FutureWarning: In a future version of pandas all arguments of DataFrame.drop except for the argument 'labels' will be keyword-only\n",
            "  by='saliency', ascending=False).head(R).drop('saliency', 1)\n"
          ],
          "name": "stderr"
        },
        {
          "output_type": "execute_result",
          "data": {
            "text/html": [
              "\n",
              "<link rel=\"stylesheet\" type=\"text/css\" href=\"https://cdn.jsdelivr.net/gh/bmabey/pyLDAvis@3.3.1/pyLDAvis/js/ldavis.v1.0.0.css\">\n",
              "\n",
              "\n",
              "<div id=\"ldavis_el3281397098991523361974224491\"></div>\n",
              "<script type=\"text/javascript\">\n",
              "\n",
              "var ldavis_el3281397098991523361974224491_data = {\"mdsDat\": {\"x\": [-0.035854123334334256, 0.03249119046067857, 0.0033629328736556885], \"y\": [-0.0074198990304189276, -0.009989838783325945, 0.017409737813744882], \"topics\": [1, 2, 3], \"cluster\": [1, 1, 1], \"Freq\": [63.63117184001601, 21.786938133680845, 14.581890026303151]}, \"tinfo\": {\"Term\": [\"\\u0e19\\u0e49\\u0e33\", \"\\u0e40\\u0e25\\u0e37\\u0e2d\\u0e01\", \"\\u0e0b\\u0e38\\u0e1b\", \"\\u0e0a\\u0e2d\\u0e1a\", \"\\u0e0a\\u0e32\\u0e1a\\u0e39\", \"\\u0e14\\u0e35\\u0e21\\u0e32\\u0e01\", \"\\u0e2a\\u0e32\\u0e02\\u0e32\", \"\\u0e40\\u0e19\\u0e37\\u0e49\\u0e2d\", \"\\u0e19\\u0e49\\u0e33\\u0e08\\u0e34\\u0e49\\u0e21\", \"\\u0e1a\\u0e38\\u0e1f\\u0e40\\u0e1f\\u0e48\\u0e15\\u0e4c\", \"\\u0e41\\u0e19\\u0e30\\u0e19\\u0e33\", \"\\u0e23\\u0e2a\\u0e0a\\u0e32\\u0e15\\u0e34\", \"\\u0e2d\\u0e23\\u0e48\\u0e2d\\u0e22\", \"\\u0e2b\\u0e21\\u0e49\\u0e2d\", \"\\u0e04\\u0e19\\u0e25\\u0e30\", \"\\u0e44\\u0e2d\\u0e15\\u0e34\\u0e21\", \"\\u0e2b\\u0e19\\u0e49\\u0e32\", \"\\u0e2a\\u0e31\\u0e48\\u0e07\", \"\\u0e40\\u0e19\\u0e37\\u0e49\\u0e2d\\u0e27\\u0e31\\u0e27\", \"\\u0e40\\u0e19\\u0e37\\u0e49\\u0e2d\\u0e2b\\u0e21\\u0e39\", \"\\u0e40\\u0e2a\\u0e34\\u0e23\\u0e4c\\u0e1f\", \"\\u0e0a\\u0e38\\u0e14\", \"\\u0e04\\u0e38\\u0e49\\u0e21\\u0e04\\u0e48\\u0e32\", \"\\u0e2b\\u0e27\\u0e32\\u0e19\", \"\\u0e1c\\u0e31\\u0e01\", \"\\u0e42\\u0e1b\\u0e23\\u0e42\\u0e21\\u0e0a\\u0e31\\u0e48\\u0e19\", \"\\u0e14\\u0e35\", \"\\u0e0d\\u0e35\\u0e48\\u0e1b\\u0e38\\u0e48\\u0e19\", \"\\u0e19\\u0e31\\u0e48\\u0e07\", \"\\u0e14\\u0e33\", \"\\u0e21\", \"\\u0e40\\u0e17\", \"\\u0e1b\\u0e38\\u0e23\\u0e30\", \"\\u0e01\\u0e38\\u0e49\\u0e07\", \"\\u0e14\\u0e39\", \"\\u0e2a\\u0e44\\u0e25\\u0e14\\u0e4c\", \"\\u0e19\\u0e4d\\u0e49\\u0e32\", \"\\u0e15\\u0e2d\\u0e19\\u0e19\\u0e35\\u0e49\", \"\\u0e0b\\u0e39\\u0e0a\\u0e34\", \"\\u0e01\\u0e25\\u0e31\\u0e1a\\u0e21\\u0e32\", \"\\u0e2d\\u0e32\\u0e2b\\u0e32\\u0e23\", \"\\u0e44\\u0e25\\u0e19\\u0e4c\", \"\\u0e40\\u0e1b\\u0e47\\u0e19\\u0e2b\\u0e25\\u0e31\\u0e01\", \"g\", \"\\u0e41\\u0e1e\\u0e07\", \"\\u0e0a\\u0e34\", \"\\u0e0a\\u0e31\\u0e49\\u0e19\", \"\\u0e0a\\u0e37\\u0e48\\u0e2d\", \"\\u0e2a\\u0e33\\u0e2b\\u0e23\\u0e31\\u0e1a\", \"\\u0e40\\u0e27\\u0e25\\u0e32\", \"\\u0e23\\u0e2d\", \"\\u0e41\\u0e25\\u0e49\\u0e27\\u0e01\\u0e47\", \"\\u0e1a\\u0e32\\u0e07\\u0e2a\\u0e48\\u0e27\\u0e19\", \"\\u0e15\\u0e2d\\u0e19\", \"net\", \"\\u0e19\\u0e34\\u0e14\\u0e19\\u0e36\\u0e07\", \"\\u0e23\\u0e32\\u0e04\\u0e32\", \"\\u0e42\\u0e2d\\u0e40\\u0e04\", \"\\u0e40\\u0e17\\u0e35\\u0e22\\u0e1a\", \"\\u0e04\\u0e34\\u0e27\", \"\\u0e15\\u0e31\\u0e27\", \"\\u0e1a\\u0e23\\u0e34\\u0e01\\u0e32\\u0e23\", \"\\u0e04\\u0e38\\u0e49\\u0e21\", \"\\u0e2a\\u0e14\", \"\\u0e40\\u0e21\\u0e19\\u0e39\", \"\\u0e14\\u0e35\", \"\\u0e2a\\u0e32\\u0e02\\u0e32\", \"\\u0e2a\\u0e32\\u0e22\\u0e1e\\u0e32\\u0e19\", \"\\u0e2d\\u0e23\\u0e48\\u0e2d\\u0e22\", \"\\u0e0a\\u0e32\\u0e1a\\u0e39\", \"\\u0e40\\u0e14\\u0e2d\\u0e30\", \"\\u0e40\\u0e19\\u0e37\\u0e49\\u0e2d\", \"\\u0e23\\u0e2a\", \"\\u0e23\\u0e2a\\u0e0a\\u0e32\\u0e15\\u0e34\", \"\\u0e19\\u0e49\\u0e33\", \"\\u0e40\\u0e25\\u0e37\\u0e2d\\u0e01\", \"\\u0e0b\\u0e38\\u0e1b\", \"\\u0e02\\u0e2d\\u0e07\\u0e2b\\u0e27\\u0e32\\u0e19\", \"\\u0e2a\\u0e31\\u0e48\\u0e07\", \"\\u0e1e\\u0e19\\u0e31\\u0e01\\u0e07\\u0e32\\u0e19\", \"\\u0e23\\u0e32\", \"\\u0e1a\\u0e4b\\u0e27\\u0e22\", \"\\u0e2a\\u0e32\\u0e22\", \"\\u0e04\\u0e32\\u0e21\\u0e35\", \"\\u0e23\\u0e31\\u0e1a\\u0e1b\\u0e23\\u0e30\\u0e01\\u0e31\\u0e19\", \"\\u0e25\\u0e2d\\u0e15\\u0e40\\u0e15\\u0e2d\\u0e23\\u0e35\\u0e48\", \"\\u0e19\\u0e36\\u0e07\", \"\\u0e0b\\u0e36\\u0e1b\", \"\\u0e04\\u0e48\\u0e32\\u0e19\\u0e49\\u0e33\", \"\\u0e2e\\u0e31\\u0e19\", \"\\u0e17\\u0e2d\\u0e19\", \"\\u0e2a\\u0e31\\u0e1b\\u0e14\\u0e32\\u0e2b\\u0e4c\", \"\\u0e2b\\u0e27\\u0e22\", \"\\u0e40\\u0e07\\u0e34\\u0e19\", \"\\u0e42\\u0e17\\u0e2a\", \"\\u0e0b\\u0e35\", \"\\u0e44\\u0e14\\u0e49\\u0e40\\u0e27\\u0e25\\u0e32\", \"\\u0e41\\u0e19\\u0e27\", \"\\u0e1f\\u0e23\\u0e35\", \"\\u0e0a\\u0e48\\u0e2d\\u0e07\", \"\\u0e2b\\u0e31\\u0e27\", \"\\u0e40\\u0e19\\u0e37\\u0e49\\u0e2d\\u0e2b\\u0e21\\u0e39\", \"\\u0e01\\u0e33\", \"\\u0e41\\u0e25\\u0e01\", \"\\u0e16\\u0e39\\u0e01\\u0e2b\\u0e27\\u0e22\", \"\\u0e1f\\u0e39\\u0e49\\u0e14\", \"\\u0e0a\\u0e38\\u0e14\", \"\\u0e42\\u0e1b\\u0e23\\u0e42\\u0e21\\u0e0a\\u0e31\\u0e48\\u0e19\", \"\\u0e15\\u0e49\\u0e21\\u0e22\\u0e33\", \"\\u0e04\\u0e19\\u0e25\\u0e30\", \"\\u0e0a\\u0e2d\\u0e1a\", \"\\u0e19\\u0e49\\u0e33\", \"\\u0e40\\u0e25\\u0e37\\u0e2d\\u0e01\", \"\\u0e1a\\u0e38\\u0e1f\\u0e40\\u0e1f\\u0e48\\u0e15\\u0e4c\", \"\\u0e41\\u0e19\\u0e30\\u0e19\\u0e33\", \"\\u0e40\\u0e19\\u0e37\\u0e49\\u0e2d\\u0e27\\u0e31\\u0e27\", \"\\u0e0b\\u0e38\\u0e1b\", \"\\u0e2b\\u0e21\\u0e49\\u0e2d\", \"\\u0e19\\u0e49\\u0e33\\u0e08\\u0e34\\u0e49\\u0e21\", \"\\u0e2d\\u0e23\\u0e48\\u0e2d\\u0e22\", \"\\u0e40\\u0e2b\\u0e47\\u0e14\", \"\\u0e2a\\u0e31\\u0e48\\u0e07\", \"\\u0e1c\\u0e31\\u0e01\", \"\\u0e44\\u0e2d\\u0e15\\u0e34\\u0e21\", \"\\u0e25\\u0e2d\\u0e07\", \"\\u0e19\\u0e32\", \"\\u0e23\\u0e2a\\u0e0a\\u0e32\\u0e15\\u0e34\", \"\\u0e40\\u0e19\\u0e37\\u0e49\\u0e2d\", \"\\u0e02\\u0e2d\\u0e07\\u0e2b\\u0e27\\u0e32\\u0e19\", \"\\u0e14\\u0e33\", \"\\u0e14\\u0e35\", \"\\u0e0d\\u0e35\\u0e48\\u0e1b\\u0e38\\u0e48\\u0e19\", \"\\u0e44\\u0e01\\u0e48\", \"\\u0e1e\\u0e34\\u0e0b\", \"\\u0e0a\\u0e32\\u0e1a\\u0e39\", \"\\u0e1f\\u0e40\\u0e1f\\u0e48\", \"\\u0e23\\u0e32\\u0e04\\u0e32\", \"\\u0e1e\\u0e34\\u0e0b\\u0e0b\\u0e48\\u0e32\", \"\\u0e04\\u0e38\\u0e49\\u0e21\", \"\\u0e2d\\u0e32\\u0e2b\\u0e32\\u0e23\", \"\\u0e18\\u0e23\\u0e23\\u0e21\\u0e14\\u0e32\", \"\\u0e1e\\u0e19\\u0e31\\u0e01\\u0e07\\u0e32\\u0e19\", \"\\u0e40\\u0e1f\\u0e23\\u0e19\\u0e44\\u0e0a\\u0e2a\\u0e4c\", \"\\u0e42\\u0e0a\", \"\\u0e07\\u0e27\\u0e14\", \"\\u0e44\\u0e2d\\u0e28\\u0e04\\u0e23\\u0e35\\u0e21\", \"\\u0e1a\\u0e4a\\u0e27\\u0e22\", \"\\u0e25\\u0e38\\u0e22\", \"\\u0e22\\u0e38\", \"\\u0e2a\\u0e38\\u0e01\\u0e35\\u0e49\\u0e22\\u0e32\\u0e01\\u0e35\\u0e49\", \"\\u0e15\\u0e33\", \"\\u0e40\\u0e1b\\u0e47\\u0e19\\u0e1b\\u0e01\\u0e15\\u0e34\", \"\\u0e15\\u0e2d\\u0e19\\u0e17\\u0e35\\u0e48\", \"\\u0e2d\\u0e2d\\u0e2a\\u0e40\\u0e15\\u0e23\\u0e40\\u0e25\\u0e35\\u0e22\", \"\\u0e44\\u0e02\\u0e48\\u0e44\\u0e01\\u0e48\", \"\\u0e01\\u0e32\\u0e41\\u0e1f\", \"\\u0e17\\u0e31\\u0e48\\u0e27\\u0e44\\u0e1b\", \"\\u0e14\\u0e35\\u0e21\\u0e32\\u0e01\", \"\\u0e2a\\u0e1a\\u0e32\\u0e22\\u0e14\\u0e35\", \"\\u0e40\\u0e2a\\u0e34\\u0e23\\u0e4c\\u0e1f\", \"\\u0e40\\u0e04\\u0e47\\u0e21\", \"\\u0e15\\u0e31\\u0e14\\u0e2a\\u0e34\\u0e19\\u0e43\\u0e08\", \"\\u0e40\\u0e14\\u0e47\\u0e01\", \"ctw\", \"\\u0e04\\u0e38\\u0e13\\u0e20\\u0e32\\u0e1e\\u0e14\\u0e35\", \"\\u0e1a\\u0e31\\u0e15\\u0e23\\u0e40\\u0e04\\u0e23\\u0e14\\u0e34\\u0e15\", \"\\u0e17\\u0e35\\u0e48\\u0e08\\u0e30\", \"\\u0e40\\u0e2a\\u0e49\\u0e19\", \"\\u0e40\\u0e2b\\u0e21\\u0e37\\u0e2d\\u0e19\\u0e01\\u0e31\\u0e1a\", \"\\u0e41\\u0e19\\u0e30\\u0e19\\u0e33\", \"\\u0e41\\u0e04\\u0e1a\", \"\\u0e40\\u0e23\\u0e37\\u0e48\\u0e2d\\u0e07\", \"\\u0e19\\u0e31\\u0e48\\u0e07\", \"\\u0e04\\u0e38\\u0e49\\u0e21\\u0e04\\u0e48\\u0e32\", \"\\u0e2b\\u0e19\\u0e49\\u0e32\", \"\\u0e19\\u0e49\\u0e33\", \"\\u0e04\\u0e2d\", \"\\u0e0a\\u0e32\\u0e1a\\u0e39\", \"\\u0e2a\\u0e32\\u0e02\\u0e32\", \"\\u0e2b\\u0e27\\u0e32\\u0e19\", \"\\u0e40\\u0e19\\u0e37\\u0e49\\u0e2d\", \"\\u0e19\\u0e49\\u0e33\\u0e08\\u0e34\\u0e49\\u0e21\", \"\\u0e40\\u0e25\\u0e37\\u0e2d\\u0e01\", \"\\u0e0b\\u0e38\\u0e1b\", \"\\u0e23\\u0e2a\\u0e0a\\u0e32\\u0e15\\u0e34\", \"\\u0e14\\u0e35\", \"\\u0e2b\\u0e21\\u0e49\\u0e2d\", \"\\u0e44\\u0e2d\\u0e15\\u0e34\\u0e21\", \"\\u0e1a\\u0e23\\u0e34\\u0e01\\u0e32\\u0e23\", \"\\u0e2b\\u0e21\\u0e39\", \"\\u0e2d\\u0e23\\u0e48\\u0e2d\\u0e22\", \"\\u0e2a\\u0e14\", \"\\u0e42\\u0e21\", \"\\u0e23\\u0e32\\u0e04\\u0e32\", \"\\u0e15\\u0e34\\u0e14\", \"\\u0e2d\\u0e32\\u0e2b\\u0e32\\u0e23\", \"\\u0e2a\\u0e31\\u0e48\\u0e07\", \"\\u0e0a\\u0e2d\\u0e1a\", \"\\u0e01\\u0e38\\u0e49\\u0e07\", \"\\u0e02\\u0e2d\\u0e07\\u0e2b\\u0e27\\u0e32\\u0e19\", \"\\u0e19\\u0e38\\u0e48\\u0e21\"], \"Freq\": [17.0, 13.0, 11.0, 6.0, 14.0, 4.0, 9.0, 13.0, 4.0, 6.0, 2.0, 11.0, 16.0, 3.0, 3.0, 5.0, 4.0, 7.0, 3.0, 2.0, 2.0, 2.0, 3.0, 3.0, 5.0, 2.0, 15.0, 3.0, 2.0, 5.0, 5.658705052535708, 5.661278165560708, 5.576610716433018, 9.677366399911447, 4.775763493824253, 3.337752435393238, 1.9923057512627274, 1.9914153069158347, 5.937316272219974, 3.147516964222027, 12.109222881850465, 1.9059096657713486, 1.9011652978476548, 2.5414989288011207, 1.8887233177628517, 5.57298357874251, 3.1280679646274856, 1.8646125484296479, 3.685864281820713, 4.245068000262366, 4.280972713050421, 1.8570264438183308, 1.8333521879368906, 2.403772380783262, 1.7944292297310267, 1.7825063612830185, 11.428555659339818, 2.9673367447107566, 1.7766921673018965, 3.5444274592434986, 2.916448362035466, 5.136196475600605, 6.470790656024351, 6.772969292633332, 4.602085367526398, 11.25171797290324, 7.35547324082725, 4.012381012333005, 11.289212521191876, 10.069328545404451, 3.8925468472443896, 9.219880909845765, 3.9610703015464237, 7.18163566412003, 8.382750459287976, 6.633822235394205, 6.226784843765342, 4.511339410225487, 4.481676606368, 3.9009829949164425, 0.7531428894525396, 0.7492795639090348, 0.7485023246346947, 0.7456777158717609, 0.7386150565710885, 0.7378755664594161, 0.7246461449238588, 0.7247170321951224, 0.7237397961355087, 0.7219661388166162, 0.7219154172218265, 0.7216161905529281, 0.7198184942721414, 0.7199313728758187, 0.7185301042837635, 0.7144717004126618, 0.7092376007146968, 1.0836072978620495, 0.7068926030559496, 0.7056905319997956, 0.7057082999281522, 1.4259334276887041, 0.6993944758087378, 0.6988282383687225, 0.6973058527563818, 0.6920569976853871, 1.4004513903121567, 1.3411711873195153, 0.9229298313886832, 1.8495926491924422, 2.918525482653558, 5.966425092340107, 4.486677097751851, 2.483106228845138, 1.3342729274666822, 1.7352590427729626, 3.9058170830641528, 1.5473520723912841, 1.8291870749453256, 3.88391445326173, 1.1503068712983564, 2.2102368368668346, 1.7870221209756165, 1.8281672327460885, 1.7159054036614227, 0.9268945386410463, 2.28245528870058, 2.499193028367899, 1.7108053319351444, 1.5159062821204523, 2.3341416389634793, 1.1472286545614745, 1.2684346989309847, 0.9192783069288759, 2.1343777426608908, 1.1454837087392689, 1.88602145189685, 1.2095284216832047, 1.3641258752189567, 1.4504663256951151, 1.17686457536877, 1.186763586250079, 0.49364821641506246, 0.4862099227900702, 0.48363512251238167, 0.48172997687358055, 0.4813921456959189, 0.47920249765001033, 0.4782402754504439, 0.47674036262986597, 0.475362126641486, 0.47337406628612116, 0.473073968505526, 0.46860064753661296, 0.4693388148321151, 0.44424734024519236, 0.43847672286481293, 1.4865156129259305, 0.414722993903442, 0.7779982908770571, 0.5955963250687543, 0.4066222878182796, 0.40661829639023656, 0.6170377827309362, 0.40350029156001316, 0.40277212340898993, 0.3992800765075187, 0.390969717578241, 0.389408616577251, 0.8697117607973093, 0.37581447104261395, 0.5653266515502701, 0.7225035328040659, 0.8366050460638359, 1.1366033289991417, 3.335329116739849, 0.7046069570289967, 2.3399316486346198, 1.764089394735676, 0.8952856220950393, 2.0745169911061896, 1.046183164062313, 1.9081671086809116, 1.6875056591305697, 1.5514736765502337, 1.6236117019927865, 0.8169231909374844, 0.9489765838825279, 0.9447705239975263, 0.785512380486124, 1.330907609785497, 1.008531159208924, 0.7511018266910932, 1.0248526434104814, 0.6259718331534926, 1.00604429379441, 0.8294310919620225, 0.7849307018591538, 0.8163538569333277, 0.7553968501578372, 0.7141205463439022], \"Total\": [17.0, 13.0, 11.0, 6.0, 14.0, 4.0, 9.0, 13.0, 4.0, 6.0, 2.0, 11.0, 16.0, 3.0, 3.0, 5.0, 4.0, 7.0, 3.0, 2.0, 2.0, 2.0, 3.0, 3.0, 5.0, 2.0, 15.0, 3.0, 2.0, 5.0, 6.333431893098309, 6.346888250034067, 6.306850004306494, 10.945326984856523, 5.486454658535655, 3.8787134250780366, 2.332544473778081, 2.331958848483273, 6.98601656602476, 3.7781751471671545, 14.565733501339992, 2.2959017130538317, 2.2918154913845585, 3.064035180236904, 2.2996542465568806, 6.790153235780457, 3.8227873091525635, 2.279668889197517, 4.510074740832182, 5.213436660689715, 5.271572664500702, 2.289477867728647, 2.2646686009855195, 2.9947946788187783, 2.2374536833912977, 2.2343259296632767, 14.33942975464715, 3.729356253496277, 2.23295165938235, 4.458281713641131, 3.6766690180123773, 6.519983428909033, 8.304353074339362, 8.769303756293377, 5.910191496449008, 15.209471313859506, 9.820882994955646, 5.157713202419653, 16.504034584239104, 14.54363793669996, 5.099087737841891, 13.793590929319855, 5.218232725683475, 11.015564629370845, 17.684504668367932, 13.028666441826969, 11.820107585960065, 6.9775415923184685, 7.521344535196857, 5.680486442813726, 1.2005607174965478, 1.20020377160427, 1.2016648974499615, 1.2003151646959904, 1.1927756405844525, 1.192230762462312, 1.1884787284555591, 1.1886524235626361, 1.188309582984861, 1.1877192259809084, 1.1881120753988756, 1.188118566413113, 1.1869739391979288, 1.1871643773010119, 1.186554361998959, 1.185952985645863, 1.1845509797657272, 1.81206711756388, 1.184113507214553, 1.1829233238517038, 1.1829787464502457, 2.4076785782136385, 1.1816797702044557, 1.1816510875877622, 1.1814791096904218, 1.1801673370312242, 2.4657727717112246, 2.50361025102794, 1.7398850071522387, 3.742037668717929, 6.374055717395338, 17.684504668367932, 13.028666441826969, 6.119698328801876, 2.7395784786498294, 3.888181537546526, 11.820107585960065, 3.5536744935370086, 4.894761551193602, 16.504034584239104, 2.5128259951125607, 7.521344535196857, 5.436934360040722, 5.857437709279039, 5.651736051748915, 1.895586821879532, 11.015564629370845, 13.793590929319855, 6.9775415923184685, 5.437023478575533, 15.209471313859506, 3.151694606319182, 4.028013083193574, 1.9134136900940268, 14.54363793669996, 3.3017340837554596, 14.33942975464715, 4.180166607300681, 8.304353074339362, 14.565733501339992, 4.161449129045374, 5.680486442813726, 1.0880775380539573, 1.0961638181492563, 1.098797837379311, 1.100551321952004, 1.1009277939892128, 1.1006845381013115, 1.1008878710276986, 1.103878173267005, 1.103828885386494, 1.1033121081160642, 1.105303703908934, 1.107200921376241, 1.109094315762953, 1.1398842807564484, 1.1456982098696826, 4.108637475197979, 1.1851189441789052, 2.233905051179655, 1.7113492368635135, 1.1935932031248218, 1.1936713616540422, 1.8287360753641941, 1.1969745570724437, 1.1979029853508738, 1.20138739003769, 1.210181157388543, 1.211866372434679, 2.7395784786498294, 1.2262292062141835, 1.8497085511352447, 2.442961153783796, 3.0320461042973377, 4.479711990917901, 17.684504668367932, 2.4858879366880533, 14.54363793669996, 9.820882994955646, 3.842303192724264, 13.793590929319855, 4.894761551193602, 13.028666441826969, 11.820107585960065, 11.015564629370845, 15.209471313859506, 3.5536744935370086, 5.857437709279039, 6.519983428909033, 4.040406879634797, 16.504034584239104, 8.769303756293377, 4.791881359336706, 14.33942975464715, 2.63937430459878, 14.565733501339992, 7.521344535196857, 6.374055717395338, 10.945326984856523, 6.9775415923184685, 5.5990557301673824], \"Category\": [\"Default\", \"Default\", \"Default\", \"Default\", \"Default\", \"Default\", \"Default\", \"Default\", \"Default\", \"Default\", \"Default\", \"Default\", \"Default\", \"Default\", \"Default\", \"Default\", \"Default\", \"Default\", \"Default\", \"Default\", \"Default\", \"Default\", \"Default\", \"Default\", \"Default\", \"Default\", \"Default\", \"Default\", \"Default\", \"Default\", \"Topic1\", \"Topic1\", \"Topic1\", \"Topic1\", \"Topic1\", \"Topic1\", \"Topic1\", \"Topic1\", \"Topic1\", \"Topic1\", \"Topic1\", \"Topic1\", \"Topic1\", \"Topic1\", \"Topic1\", \"Topic1\", \"Topic1\", \"Topic1\", \"Topic1\", \"Topic1\", \"Topic1\", \"Topic1\", \"Topic1\", \"Topic1\", \"Topic1\", \"Topic1\", \"Topic1\", \"Topic1\", \"Topic1\", \"Topic1\", \"Topic1\", \"Topic1\", \"Topic1\", \"Topic1\", \"Topic1\", \"Topic1\", \"Topic1\", \"Topic1\", \"Topic1\", \"Topic1\", \"Topic1\", \"Topic1\", \"Topic1\", \"Topic1\", \"Topic1\", \"Topic1\", \"Topic1\", \"Topic1\", \"Topic1\", \"Topic1\", \"Topic2\", \"Topic2\", \"Topic2\", \"Topic2\", \"Topic2\", \"Topic2\", \"Topic2\", \"Topic2\", \"Topic2\", \"Topic2\", \"Topic2\", \"Topic2\", \"Topic2\", \"Topic2\", \"Topic2\", \"Topic2\", \"Topic2\", \"Topic2\", \"Topic2\", \"Topic2\", \"Topic2\", \"Topic2\", \"Topic2\", \"Topic2\", \"Topic2\", \"Topic2\", \"Topic2\", \"Topic2\", \"Topic2\", \"Topic2\", \"Topic2\", \"Topic2\", \"Topic2\", \"Topic2\", \"Topic2\", \"Topic2\", \"Topic2\", \"Topic2\", \"Topic2\", \"Topic2\", \"Topic2\", \"Topic2\", \"Topic2\", \"Topic2\", \"Topic2\", \"Topic2\", \"Topic2\", \"Topic2\", \"Topic2\", \"Topic2\", \"Topic2\", \"Topic2\", \"Topic2\", \"Topic2\", \"Topic2\", \"Topic2\", \"Topic2\", \"Topic2\", \"Topic2\", \"Topic2\", \"Topic2\", \"Topic2\", \"Topic3\", \"Topic3\", \"Topic3\", \"Topic3\", \"Topic3\", \"Topic3\", \"Topic3\", \"Topic3\", \"Topic3\", \"Topic3\", \"Topic3\", \"Topic3\", \"Topic3\", \"Topic3\", \"Topic3\", \"Topic3\", \"Topic3\", \"Topic3\", \"Topic3\", \"Topic3\", \"Topic3\", \"Topic3\", \"Topic3\", \"Topic3\", \"Topic3\", \"Topic3\", \"Topic3\", \"Topic3\", \"Topic3\", \"Topic3\", \"Topic3\", \"Topic3\", \"Topic3\", \"Topic3\", \"Topic3\", \"Topic3\", \"Topic3\", \"Topic3\", \"Topic3\", \"Topic3\", \"Topic3\", \"Topic3\", \"Topic3\", \"Topic3\", \"Topic3\", \"Topic3\", \"Topic3\", \"Topic3\", \"Topic3\", \"Topic3\", \"Topic3\", \"Topic3\", \"Topic3\", \"Topic3\", \"Topic3\", \"Topic3\", \"Topic3\", \"Topic3\", \"Topic3\"], \"logprob\": [30.0, 29.0, 28.0, 27.0, 26.0, 25.0, 24.0, 23.0, 22.0, 21.0, 20.0, 19.0, 18.0, 17.0, 16.0, 15.0, 14.0, 13.0, 12.0, 11.0, 10.0, 9.0, 8.0, 7.0, 6.0, 5.0, 4.0, 3.0, 2.0, 1.0, -4.9148, -4.9143, -4.9294, -4.3782, -5.0844, -5.4427, -5.9587, -5.9591, -4.8667, -5.5013, -4.154, -6.003, -6.0055, -5.7152, -6.0121, -4.93, -5.5075, -6.0249, -5.3435, -5.2022, -5.1938, -6.029, -6.0418, -5.7709, -6.0633, -6.0699, -4.2118, -5.5603, -6.0732, -5.3826, -5.5776, -5.0116, -4.7807, -4.735, -5.1215, -4.2274, -4.6525, -5.2586, -4.2241, -4.3385, -5.2889, -4.4266, -5.2714, -4.6764, -4.5218, -4.7558, -4.8191, -5.1414, -5.148, -5.2867, -5.8597, -5.8648, -5.8658, -5.8696, -5.8791, -5.8801, -5.8982, -5.8981, -5.8995, -5.9019, -5.902, -5.9024, -5.9049, -5.9048, -5.9067, -5.9124, -5.9197, -5.4959, -5.923, -5.9247, -5.9247, -5.2213, -5.9337, -5.9345, -5.9367, -5.9443, -5.2394, -5.2826, -5.6564, -4.9612, -4.5051, -3.79, -4.0751, -4.6667, -5.2878, -5.025, -4.2137, -5.1396, -4.9723, -4.2193, -5.4361, -4.7831, -4.9956, -4.9729, -5.0362, -5.6521, -4.7509, -4.6602, -5.0392, -5.1602, -4.7285, -5.4388, -5.3384, -5.6603, -4.818, -5.4403, -4.9417, -5.3859, -5.2657, -5.2043, -5.4133, -5.4049, -5.8806, -5.8958, -5.9011, -5.905, -5.9057, -5.9103, -5.9123, -5.9154, -5.9183, -5.9225, -5.9231, -5.9326, -5.9311, -5.986, -5.9991, -4.7782, -6.0548, -5.4257, -5.6928, -6.0745, -6.0745, -5.6575, -6.0822, -6.084, -6.0927, -6.1138, -6.1178, -5.3142, -6.1533, -5.745, -5.4997, -5.353, -5.0466, -3.9701, -5.5248, -4.3245, -4.607, -5.2852, -4.4449, -5.1295, -4.5285, -4.6514, -4.7354, -4.69, -5.3768, -5.227, -5.2315, -5.4161, -4.8888, -5.1661, -5.4609, -5.1501, -5.6431, -5.1686, -5.3617, -5.4168, -5.3775, -5.4551, -5.5113], \"loglift\": [30.0, 29.0, 28.0, 27.0, 26.0, 25.0, 24.0, 23.0, 22.0, 21.0, 20.0, 19.0, 18.0, 17.0, 16.0, 15.0, 14.0, 13.0, 12.0, 11.0, 10.0, 9.0, 8.0, 7.0, 6.0, 5.0, 4.0, 3.0, 2.0, 1.0, 0.3394, 0.3378, 0.329, 0.3289, 0.3133, 0.3019, 0.2944, 0.2942, 0.2894, 0.2694, 0.2674, 0.2659, 0.2652, 0.2651, 0.2552, 0.2545, 0.2515, 0.2511, 0.2503, 0.2466, 0.2439, 0.2427, 0.2408, 0.2322, 0.2314, 0.2261, 0.2252, 0.2235, 0.2235, 0.2227, 0.2204, 0.2135, 0.2026, 0.1937, 0.2019, 0.1507, 0.163, 0.201, 0.0723, 0.0844, 0.1821, 0.0492, 0.1764, 0.0243, -0.2944, -0.2229, -0.1889, 0.016, -0.0657, 0.0763, 1.0576, 1.0527, 1.0505, 1.0478, 1.0446, 1.0441, 1.0291, 1.0291, 1.028, 1.026, 1.0256, 1.0252, 1.0237, 1.0237, 1.0223, 1.0171, 1.0109, 1.0097, 1.008, 1.0073, 1.0073, 1.0, 0.9994, 0.9986, 0.9966, 0.9901, 0.9581, 0.8997, 0.8898, 0.8192, 0.7427, 0.4373, 0.4578, 0.6219, 0.8044, 0.7171, 0.4165, 0.6924, 0.5396, 0.0771, 0.7425, 0.2992, 0.4112, 0.3595, 0.3318, 0.8084, -0.0502, -0.1844, 0.1181, 0.2466, -0.3504, 0.5133, 0.3684, 0.7908, -0.3951, 0.4652, -0.5047, 0.2837, -0.2824, -0.7829, 0.2608, -0.0419, 1.135, 1.1125, 1.1047, 1.0992, 1.0982, 1.0938, 1.0916, 1.0858, 1.0829, 1.0792, 1.0768, 1.0656, 1.0654, 0.9831, 0.9649, 0.9087, 0.8754, 0.8706, 0.8699, 0.8486, 0.8485, 0.8389, 0.838, 0.8354, 0.8238, 0.7955, 0.7901, 0.778, 0.7428, 0.74, 0.7071, 0.6377, 0.5539, 0.2573, 0.6646, 0.0984, 0.2085, 0.4687, 0.0309, 0.3824, 0.0044, -0.0212, -0.0347, -0.3119, 0.4552, 0.1053, -0.0063, 0.2876, -0.5924, -0.2374, 0.0723, -0.7131, 0.4864, -0.7473, -0.2794, -0.169, -0.6704, -0.2978, -0.1339]}, \"token.table\": {\"Topic\": [1, 3, 1, 1, 1, 2, 1, 3, 1, 2, 3, 1, 2, 3, 1, 3, 2, 1, 1, 1, 2, 1, 2, 3, 2, 1, 2, 3, 1, 1, 2, 3, 1, 2, 3, 1, 1, 2, 2, 2, 2, 1, 2, 3, 1, 2, 1, 2, 3, 1, 2, 3, 1, 2, 3, 1, 2, 3, 1, 1, 1, 1, 1, 1, 3, 2, 2, 2, 1, 1, 2, 1, 3, 1, 2, 1, 2, 1, 2, 3, 1, 2, 3, 1, 2, 3, 1, 1, 3, 1, 1, 1, 2, 2, 1, 1, 2, 3, 1, 2, 3, 1, 2, 1, 2, 2, 2, 1, 2, 1, 1, 2, 1, 2, 3, 1, 2, 2, 2, 1, 2, 3, 1, 2, 2, 1, 2, 3, 1, 2, 1, 2, 3, 1, 2, 3, 2, 1, 2, 3, 1, 1, 1, 2, 3, 1, 2, 3, 1, 2, 3, 2, 1, 2, 3, 2, 1, 2, 3, 1, 2, 3, 2, 1, 3, 2, 1, 2, 3, 1, 1, 1, 1, 2, 3, 1, 2, 1, 2, 1, 1, 2, 3, 1, 3, 1, 2, 3, 1, 3, 1, 2, 3, 1, 1, 1, 2, 1, 2, 1, 2, 3, 1, 2, 1, 2, 1, 2, 1, 2, 3, 1, 1, 2, 2, 1, 1, 2, 3], \"Freq\": [0.546825763144006, 0.546825763144006, 0.9791010296977226, 0.8938732519229671, 0.7940341257734904, 0.8462529572008995, 0.9136319101142948, 0.09136319101142948, 0.7165847646833762, 0.28663390587335047, 0.14331695293667523, 0.26723408167684565, 0.5344681633536913, 0.26723408167684565, 0.4022707481063283, 0.4022707481063283, 0.8331145264279609, 0.8972066497639858, 0.8354396458065045, 0.722512632385554, 0.12041877206425898, 0.3298102883668866, 0.3298102883668866, 0.3298102883668866, 0.8415315455827137, 0.4706579504494675, 0.4706579504494675, 0.15688598348315583, 0.7847676989031965, 0.687585873873113, 0.13751717477462258, 0.13751717477462258, 0.8836324883484552, 0.1472720813914092, 0.1472720813914092, 0.8773203904642638, 0.4055523734678962, 0.4055523734678962, 0.845363329842809, 0.8432037459355152, 0.8412888243670038, 0.5076095929217096, 0.33840639528113975, 0.16920319764056987, 0.8588585416730795, 0.14314309027884659, 0.3172896250782005, 0.3172896250782005, 0.3172896250782005, 0.5517724931336846, 0.3678483287557897, 0.18392416437789486, 0.7232335544744636, 0.13149700990444793, 0.13149700990444793, 0.48677937931324256, 0.24338968965662128, 0.24338968965662128, 0.9113353360573492, 0.6678254152598033, 0.8576480675466541, 0.8378063794113475, 0.8159559604910568, 0.7577553500143006, 0.3788776750071503, 0.5747506277077199, 0.8463966834437098, 0.8416714388365069, 0.8323709806614734, 0.7209027208962164, 0.2403009069654055, 0.4093392964727023, 0.4093392964727023, 0.5275411225999501, 0.5275411225999501, 0.8951245534269073, 0.8414117779789889, 0.7144061771788117, 0.17860154429470293, 0.17860154429470293, 0.4523734280389265, 0.33928007102919483, 0.16964003551459741, 0.4086000878862616, 0.4086000878862616, 0.2043000439431308, 0.8574327402900702, 0.766873114712292, 0.1533746229424584, 0.8347921427936782, 0.8831314211402308, 0.49022024270064707, 0.32681349513376473, 0.8331918493001695, 0.9513465511155382, 0.5517815374135822, 0.36785435827572144, 0.18392717913786072, 0.7041650464742016, 0.1760412616185504, 0.1760412616185504, 0.5226261342108717, 0.5226261342108717, 0.7176747440545757, 0.23922491468485857, 0.8445136331164298, 0.847337465308568, 0.6057423006413525, 0.30287115032067624, 0.9473536782701243, 0.7665430444128165, 0.19163576110320413, 0.6354644755418049, 0.18156127872622996, 0.18156127872622996, 0.7587868468429545, 0.18969671171073862, 0.8383806358671161, 0.8329441280447988, 0.7671155818755693, 0.1394755603410126, 0.0697377801705063, 0.7077471352828323, 0.35387356764141614, 0.8387637959741131, 0.7982389702234206, 0.11403413860334581, 0.11403413860334581, 0.8437971605397275, 0.8416668405569688, 0.5318198071211356, 0.2659099035605678, 0.1329549517802839, 0.712766866644827, 0.10182383809211815, 0.2036476761842363, 0.8321787564254293, 0.7755374994723375, 0.19388437486808438, 0.19388437486808438, 0.8869032621091187, 0.773452346492869, 0.6696859097375354, 0.22322863657917846, 0.22322863657917846, 0.7424994782384795, 0.2474998260794932, 0.2474998260794932, 0.28139887370626615, 0.5627977474125323, 0.28139887370626615, 0.8424784799198942, 0.5205211300834287, 0.26026056504171435, 0.26026056504171435, 0.8453237245391699, 0.6665036930124162, 0.24236497927724227, 0.060591244819310566, 0.8238514043179526, 0.06865428369316272, 0.06865428369316272, 0.8419498296612352, 0.5843342658876318, 0.5843342658876318, 0.8423433343522947, 0.784454044654846, 0.1961135111637115, 0.1961135111637115, 0.8377515220054569, 0.945345146098609, 0.8956754579063364, 0.6524769399148608, 0.14499487553663573, 0.14499487553663573, 0.5143792749095806, 0.5143792749095806, 0.4153378316560608, 0.4153378316560608, 0.8726706000192609, 0.8459962766018877, 0.16919925532037755, 0.16919925532037755, 0.5406257106754778, 0.5406257106754778, 0.5372767835645359, 0.3070153048940205, 0.15350765244701026, 0.7672482203842134, 0.19181205509605334, 0.4476465996045496, 0.4476465996045496, 0.4476465996045496, 0.8263225665799538, 0.8251734867359736, 0.3979583154364835, 0.3979583154364835, 0.815508222224917, 0.5518559386168804, 0.3650196582405768, 0.3650196582405768, 0.3650196582405768, 0.8696959566832566, 0.8462734985852829, 0.8735616221458244, 0.8427763885299993, 0.3994231928030399, 0.3994231928030399, 0.6260589056852737, 0.20868630189509121, 0.20868630189509121, 0.8044283774679599, 0.4965227169556058, 0.2482613584778029, 0.8442017414883853, 0.8711174300836049, 0.5121693390349779, 0.34144622602331853, 0.17072311301165927], \"Term\": [\"ctw\", \"ctw\", \"g\", \"net\", \"\\u0e01\\u0e25\\u0e31\\u0e1a\\u0e21\\u0e32\", \"\\u0e01\\u0e33\", \"\\u0e01\\u0e38\\u0e49\\u0e07\", \"\\u0e01\\u0e38\\u0e49\\u0e07\", \"\\u0e02\\u0e2d\\u0e07\\u0e2b\\u0e27\\u0e32\\u0e19\", \"\\u0e02\\u0e2d\\u0e07\\u0e2b\\u0e27\\u0e32\\u0e19\", \"\\u0e02\\u0e2d\\u0e07\\u0e2b\\u0e27\\u0e32\\u0e19\", \"\\u0e04\\u0e19\\u0e25\\u0e30\", \"\\u0e04\\u0e19\\u0e25\\u0e30\", \"\\u0e04\\u0e19\\u0e25\\u0e30\", \"\\u0e04\\u0e2d\", \"\\u0e04\\u0e2d\", \"\\u0e04\\u0e32\\u0e21\\u0e35\", \"\\u0e04\\u0e34\\u0e27\", \"\\u0e04\\u0e38\\u0e13\\u0e20\\u0e32\\u0e1e\\u0e14\\u0e35\", \"\\u0e04\\u0e38\\u0e49\\u0e21\", \"\\u0e04\\u0e38\\u0e49\\u0e21\", \"\\u0e04\\u0e38\\u0e49\\u0e21\\u0e04\\u0e48\\u0e32\", \"\\u0e04\\u0e38\\u0e49\\u0e21\\u0e04\\u0e48\\u0e32\", \"\\u0e04\\u0e38\\u0e49\\u0e21\\u0e04\\u0e48\\u0e32\", \"\\u0e04\\u0e48\\u0e32\\u0e19\\u0e49\\u0e33\", \"\\u0e0a\\u0e2d\\u0e1a\", \"\\u0e0a\\u0e2d\\u0e1a\", \"\\u0e0a\\u0e2d\\u0e1a\", \"\\u0e0a\\u0e31\\u0e49\\u0e19\", \"\\u0e0a\\u0e32\\u0e1a\\u0e39\", \"\\u0e0a\\u0e32\\u0e1a\\u0e39\", \"\\u0e0a\\u0e32\\u0e1a\\u0e39\", \"\\u0e0a\\u0e34\", \"\\u0e0a\\u0e34\", \"\\u0e0a\\u0e34\", \"\\u0e0a\\u0e37\\u0e48\\u0e2d\", \"\\u0e0a\\u0e38\\u0e14\", \"\\u0e0a\\u0e38\\u0e14\", \"\\u0e0a\\u0e48\\u0e2d\\u0e07\", \"\\u0e0b\\u0e35\", \"\\u0e0b\\u0e36\\u0e1b\", \"\\u0e0b\\u0e38\\u0e1b\", \"\\u0e0b\\u0e38\\u0e1b\", \"\\u0e0b\\u0e38\\u0e1b\", \"\\u0e0b\\u0e39\\u0e0a\\u0e34\", \"\\u0e0b\\u0e39\\u0e0a\\u0e34\", \"\\u0e0d\\u0e35\\u0e48\\u0e1b\\u0e38\\u0e48\\u0e19\", \"\\u0e0d\\u0e35\\u0e48\\u0e1b\\u0e38\\u0e48\\u0e19\", \"\\u0e0d\\u0e35\\u0e48\\u0e1b\\u0e38\\u0e48\\u0e19\", \"\\u0e14\\u0e33\", \"\\u0e14\\u0e33\", \"\\u0e14\\u0e33\", \"\\u0e14\\u0e35\", \"\\u0e14\\u0e35\", \"\\u0e14\\u0e35\", \"\\u0e14\\u0e35\\u0e21\\u0e32\\u0e01\", \"\\u0e14\\u0e35\\u0e21\\u0e32\\u0e01\", \"\\u0e14\\u0e35\\u0e21\\u0e32\\u0e01\", \"\\u0e14\\u0e39\", \"\\u0e15\\u0e2d\\u0e19\", \"\\u0e15\\u0e2d\\u0e19\\u0e19\\u0e35\\u0e49\", \"\\u0e15\\u0e31\\u0e14\\u0e2a\\u0e34\\u0e19\\u0e43\\u0e08\", \"\\u0e15\\u0e31\\u0e27\", \"\\u0e15\\u0e34\\u0e14\", \"\\u0e15\\u0e34\\u0e14\", \"\\u0e15\\u0e49\\u0e21\\u0e22\\u0e33\", \"\\u0e16\\u0e39\\u0e01\\u0e2b\\u0e27\\u0e22\", \"\\u0e17\\u0e2d\\u0e19\", \"\\u0e17\\u0e35\\u0e48\\u0e08\\u0e30\", \"\\u0e18\\u0e23\\u0e23\\u0e21\\u0e14\\u0e32\", \"\\u0e18\\u0e23\\u0e23\\u0e21\\u0e14\\u0e32\", \"\\u0e19\\u0e31\\u0e48\\u0e07\", \"\\u0e19\\u0e31\\u0e48\\u0e07\", \"\\u0e19\\u0e32\", \"\\u0e19\\u0e32\", \"\\u0e19\\u0e34\\u0e14\\u0e19\\u0e36\\u0e07\", \"\\u0e19\\u0e36\\u0e07\", \"\\u0e19\\u0e38\\u0e48\\u0e21\", \"\\u0e19\\u0e38\\u0e48\\u0e21\", \"\\u0e19\\u0e38\\u0e48\\u0e21\", \"\\u0e19\\u0e49\\u0e33\", \"\\u0e19\\u0e49\\u0e33\", \"\\u0e19\\u0e49\\u0e33\", \"\\u0e19\\u0e49\\u0e33\\u0e08\\u0e34\\u0e49\\u0e21\", \"\\u0e19\\u0e49\\u0e33\\u0e08\\u0e34\\u0e49\\u0e21\", \"\\u0e19\\u0e49\\u0e33\\u0e08\\u0e34\\u0e49\\u0e21\", \"\\u0e19\\u0e4d\\u0e49\\u0e32\", \"\\u0e1a\\u0e23\\u0e34\\u0e01\\u0e32\\u0e23\", \"\\u0e1a\\u0e23\\u0e34\\u0e01\\u0e32\\u0e23\", \"\\u0e1a\\u0e31\\u0e15\\u0e23\\u0e40\\u0e04\\u0e23\\u0e14\\u0e34\\u0e15\", \"\\u0e1a\\u0e32\\u0e07\\u0e2a\\u0e48\\u0e27\\u0e19\", \"\\u0e1a\\u0e38\\u0e1f\\u0e40\\u0e1f\\u0e48\\u0e15\\u0e4c\", \"\\u0e1a\\u0e38\\u0e1f\\u0e40\\u0e1f\\u0e48\\u0e15\\u0e4c\", \"\\u0e1a\\u0e4b\\u0e27\\u0e22\", \"\\u0e1b\\u0e38\\u0e23\\u0e30\", \"\\u0e1c\\u0e31\\u0e01\", \"\\u0e1c\\u0e31\\u0e01\", \"\\u0e1c\\u0e31\\u0e01\", \"\\u0e1e\\u0e19\\u0e31\\u0e01\\u0e07\\u0e32\\u0e19\", \"\\u0e1e\\u0e19\\u0e31\\u0e01\\u0e07\\u0e32\\u0e19\", \"\\u0e1e\\u0e19\\u0e31\\u0e01\\u0e07\\u0e32\\u0e19\", \"\\u0e1e\\u0e34\\u0e0b\", \"\\u0e1e\\u0e34\\u0e0b\", \"\\u0e1e\\u0e34\\u0e0b\\u0e0b\\u0e48\\u0e32\", \"\\u0e1e\\u0e34\\u0e0b\\u0e0b\\u0e48\\u0e32\", \"\\u0e1f\\u0e23\\u0e35\", \"\\u0e1f\\u0e39\\u0e49\\u0e14\", \"\\u0e1f\\u0e40\\u0e1f\\u0e48\", \"\\u0e1f\\u0e40\\u0e1f\\u0e48\", \"\\u0e21\", \"\\u0e23\\u0e2a\", \"\\u0e23\\u0e2a\", \"\\u0e23\\u0e2a\\u0e0a\\u0e32\\u0e15\\u0e34\", \"\\u0e23\\u0e2a\\u0e0a\\u0e32\\u0e15\\u0e34\", \"\\u0e23\\u0e2a\\u0e0a\\u0e32\\u0e15\\u0e34\", \"\\u0e23\\u0e2d\", \"\\u0e23\\u0e2d\", \"\\u0e23\\u0e31\\u0e1a\\u0e1b\\u0e23\\u0e30\\u0e01\\u0e31\\u0e19\", \"\\u0e23\\u0e32\", \"\\u0e23\\u0e32\\u0e04\\u0e32\", \"\\u0e23\\u0e32\\u0e04\\u0e32\", \"\\u0e23\\u0e32\\u0e04\\u0e32\", \"\\u0e25\\u0e2d\\u0e07\", \"\\u0e25\\u0e2d\\u0e07\", \"\\u0e25\\u0e2d\\u0e15\\u0e40\\u0e15\\u0e2d\\u0e23\\u0e35\\u0e48\", \"\\u0e2a\\u0e14\", \"\\u0e2a\\u0e14\", \"\\u0e2a\\u0e14\", \"\\u0e2a\\u0e1a\\u0e32\\u0e22\\u0e14\\u0e35\", \"\\u0e2a\\u0e31\\u0e1b\\u0e14\\u0e32\\u0e2b\\u0e4c\", \"\\u0e2a\\u0e31\\u0e48\\u0e07\", \"\\u0e2a\\u0e31\\u0e48\\u0e07\", \"\\u0e2a\\u0e31\\u0e48\\u0e07\", \"\\u0e2a\\u0e32\\u0e02\\u0e32\", \"\\u0e2a\\u0e32\\u0e02\\u0e32\", \"\\u0e2a\\u0e32\\u0e02\\u0e32\", \"\\u0e2a\\u0e32\\u0e22\", \"\\u0e2a\\u0e32\\u0e22\\u0e1e\\u0e32\\u0e19\", \"\\u0e2a\\u0e32\\u0e22\\u0e1e\\u0e32\\u0e19\", \"\\u0e2a\\u0e32\\u0e22\\u0e1e\\u0e32\\u0e19\", \"\\u0e2a\\u0e33\\u0e2b\\u0e23\\u0e31\\u0e1a\", \"\\u0e2a\\u0e44\\u0e25\\u0e14\\u0e4c\", \"\\u0e2b\\u0e19\\u0e49\\u0e32\", \"\\u0e2b\\u0e19\\u0e49\\u0e32\", \"\\u0e2b\\u0e19\\u0e49\\u0e32\", \"\\u0e2b\\u0e21\\u0e39\", \"\\u0e2b\\u0e21\\u0e39\", \"\\u0e2b\\u0e21\\u0e39\", \"\\u0e2b\\u0e21\\u0e49\\u0e2d\", \"\\u0e2b\\u0e21\\u0e49\\u0e2d\", \"\\u0e2b\\u0e21\\u0e49\\u0e2d\", \"\\u0e2b\\u0e27\\u0e22\", \"\\u0e2b\\u0e27\\u0e32\\u0e19\", \"\\u0e2b\\u0e27\\u0e32\\u0e19\", \"\\u0e2b\\u0e27\\u0e32\\u0e19\", \"\\u0e2b\\u0e31\\u0e27\", \"\\u0e2d\\u0e23\\u0e48\\u0e2d\\u0e22\", \"\\u0e2d\\u0e23\\u0e48\\u0e2d\\u0e22\", \"\\u0e2d\\u0e23\\u0e48\\u0e2d\\u0e22\", \"\\u0e2d\\u0e32\\u0e2b\\u0e32\\u0e23\", \"\\u0e2d\\u0e32\\u0e2b\\u0e32\\u0e23\", \"\\u0e2d\\u0e32\\u0e2b\\u0e32\\u0e23\", \"\\u0e2e\\u0e31\\u0e19\", \"\\u0e40\\u0e04\\u0e47\\u0e21\", \"\\u0e40\\u0e04\\u0e47\\u0e21\", \"\\u0e40\\u0e07\\u0e34\\u0e19\", \"\\u0e40\\u0e14\\u0e2d\\u0e30\", \"\\u0e40\\u0e14\\u0e2d\\u0e30\", \"\\u0e40\\u0e14\\u0e2d\\u0e30\", \"\\u0e40\\u0e14\\u0e47\\u0e01\", \"\\u0e40\\u0e17\", \"\\u0e40\\u0e17\\u0e35\\u0e22\\u0e1a\", \"\\u0e40\\u0e19\\u0e37\\u0e49\\u0e2d\", \"\\u0e40\\u0e19\\u0e37\\u0e49\\u0e2d\", \"\\u0e40\\u0e19\\u0e37\\u0e49\\u0e2d\", \"\\u0e40\\u0e19\\u0e37\\u0e49\\u0e2d\\u0e27\\u0e31\\u0e27\", \"\\u0e40\\u0e19\\u0e37\\u0e49\\u0e2d\\u0e27\\u0e31\\u0e27\", \"\\u0e40\\u0e19\\u0e37\\u0e49\\u0e2d\\u0e2b\\u0e21\\u0e39\", \"\\u0e40\\u0e19\\u0e37\\u0e49\\u0e2d\\u0e2b\\u0e21\\u0e39\", \"\\u0e40\\u0e1b\\u0e47\\u0e19\\u0e2b\\u0e25\\u0e31\\u0e01\", \"\\u0e40\\u0e21\\u0e19\\u0e39\", \"\\u0e40\\u0e21\\u0e19\\u0e39\", \"\\u0e40\\u0e21\\u0e19\\u0e39\", \"\\u0e40\\u0e23\\u0e37\\u0e48\\u0e2d\\u0e07\", \"\\u0e40\\u0e23\\u0e37\\u0e48\\u0e2d\\u0e07\", \"\\u0e40\\u0e25\\u0e37\\u0e2d\\u0e01\", \"\\u0e40\\u0e25\\u0e37\\u0e2d\\u0e01\", \"\\u0e40\\u0e25\\u0e37\\u0e2d\\u0e01\", \"\\u0e40\\u0e27\\u0e25\\u0e32\", \"\\u0e40\\u0e27\\u0e25\\u0e32\", \"\\u0e40\\u0e2a\\u0e34\\u0e23\\u0e4c\\u0e1f\", \"\\u0e40\\u0e2a\\u0e34\\u0e23\\u0e4c\\u0e1f\", \"\\u0e40\\u0e2a\\u0e34\\u0e23\\u0e4c\\u0e1f\", \"\\u0e40\\u0e2a\\u0e49\\u0e19\", \"\\u0e40\\u0e2b\\u0e21\\u0e37\\u0e2d\\u0e19\\u0e01\\u0e31\\u0e1a\", \"\\u0e40\\u0e2b\\u0e47\\u0e14\", \"\\u0e40\\u0e2b\\u0e47\\u0e14\", \"\\u0e41\\u0e04\\u0e1a\", \"\\u0e41\\u0e19\\u0e27\", \"\\u0e41\\u0e19\\u0e30\\u0e19\\u0e33\", \"\\u0e41\\u0e19\\u0e30\\u0e19\\u0e33\", \"\\u0e41\\u0e19\\u0e30\\u0e19\\u0e33\", \"\\u0e41\\u0e1e\\u0e07\", \"\\u0e41\\u0e25\\u0e01\", \"\\u0e41\\u0e25\\u0e49\\u0e27\\u0e01\\u0e47\", \"\\u0e42\\u0e17\\u0e2a\", \"\\u0e42\\u0e1b\\u0e23\\u0e42\\u0e21\\u0e0a\\u0e31\\u0e48\\u0e19\", \"\\u0e42\\u0e1b\\u0e23\\u0e42\\u0e21\\u0e0a\\u0e31\\u0e48\\u0e19\", \"\\u0e42\\u0e21\", \"\\u0e42\\u0e21\", \"\\u0e42\\u0e21\", \"\\u0e42\\u0e2d\\u0e40\\u0e04\", \"\\u0e44\\u0e01\\u0e48\", \"\\u0e44\\u0e01\\u0e48\", \"\\u0e44\\u0e14\\u0e49\\u0e40\\u0e27\\u0e25\\u0e32\", \"\\u0e44\\u0e25\\u0e19\\u0e4c\", \"\\u0e44\\u0e2d\\u0e15\\u0e34\\u0e21\", \"\\u0e44\\u0e2d\\u0e15\\u0e34\\u0e21\", \"\\u0e44\\u0e2d\\u0e15\\u0e34\\u0e21\"]}, \"R\": 30, \"lambda.step\": 0.01, \"plot.opts\": {\"xlab\": \"PC1\", \"ylab\": \"PC2\"}, \"topic.order\": [2, 3, 1]};\n",
              "\n",
              "function LDAvis_load_lib(url, callback){\n",
              "  var s = document.createElement('script');\n",
              "  s.src = url;\n",
              "  s.async = true;\n",
              "  s.onreadystatechange = s.onload = callback;\n",
              "  s.onerror = function(){console.warn(\"failed to load library \" + url);};\n",
              "  document.getElementsByTagName(\"head\")[0].appendChild(s);\n",
              "}\n",
              "\n",
              "if(typeof(LDAvis) !== \"undefined\"){\n",
              "   // already loaded: just create the visualization\n",
              "   !function(LDAvis){\n",
              "       new LDAvis(\"#\" + \"ldavis_el3281397098991523361974224491\", ldavis_el3281397098991523361974224491_data);\n",
              "   }(LDAvis);\n",
              "}else if(typeof define === \"function\" && define.amd){\n",
              "   // require.js is available: use it to load d3/LDAvis\n",
              "   require.config({paths: {d3: \"https://d3js.org/d3.v5\"}});\n",
              "   require([\"d3\"], function(d3){\n",
              "      window.d3 = d3;\n",
              "      LDAvis_load_lib(\"https://cdn.jsdelivr.net/gh/bmabey/pyLDAvis@3.3.1/pyLDAvis/js/ldavis.v3.0.0.js\", function(){\n",
              "        new LDAvis(\"#\" + \"ldavis_el3281397098991523361974224491\", ldavis_el3281397098991523361974224491_data);\n",
              "      });\n",
              "    });\n",
              "}else{\n",
              "    // require.js not available: dynamically load d3 & LDAvis\n",
              "    LDAvis_load_lib(\"https://d3js.org/d3.v5.js\", function(){\n",
              "         LDAvis_load_lib(\"https://cdn.jsdelivr.net/gh/bmabey/pyLDAvis@3.3.1/pyLDAvis/js/ldavis.v3.0.0.js\", function(){\n",
              "                 new LDAvis(\"#\" + \"ldavis_el3281397098991523361974224491\", ldavis_el3281397098991523361974224491_data);\n",
              "            })\n",
              "         });\n",
              "}\n",
              "</script>"
            ],
            "text/plain": [
              "PreparedData(topic_coordinates=              x        y  topics  cluster       Freq\n",
              "topic                                               \n",
              "1     -0.035854 -0.00742       1        1  63.631172\n",
              "2      0.032491 -0.00999       2        1  21.786938\n",
              "0      0.003363  0.01741       3        1  14.581890, topic_info=        Term       Freq      Total Category  logprob  loglift\n",
              "13       น้ำ  17.000000  17.000000  Default  30.0000  30.0000\n",
              "132    เลือก  13.000000  13.000000  Default  29.0000  29.0000\n",
              "6        ซุป  11.000000  11.000000  Default  28.0000  28.0000\n",
              "87       ชอบ   6.000000   6.000000  Default  27.0000  27.0000\n",
              "48      ชาบู  14.000000  14.000000  Default  26.0000  26.0000\n",
              "..       ...        ...        ...      ...      ...      ...\n",
              "117     สั่ง   0.829431   7.521345   Topic3  -5.3617  -0.2794\n",
              "87       ชอบ   0.784931   6.374056   Topic3  -5.4168  -0.1690\n",
              "241     กุ้ง   0.816354  10.945327   Topic3  -5.3775  -0.6704\n",
              "78   ของหวาน   0.755397   6.977542   Topic3  -5.4551  -0.2978\n",
              "100     นุ่ม   0.714121   5.599056   Topic3  -5.5113  -0.1339\n",
              "\n",
              "[201 rows x 6 columns], token_table=      Topic      Freq     Term\n",
              "term                          \n",
              "43        1  0.546826      ctw\n",
              "43        3  0.546826      ctw\n",
              "303       1  0.979101        g\n",
              "290       1  0.893873      net\n",
              "291       1  0.794034   กลับมา\n",
              "...     ...       ...      ...\n",
              "515       2  0.844202  ได้เวลา\n",
              "302       1  0.871117     ไลน์\n",
              "42        1  0.512169    ไอติม\n",
              "42        2  0.341446    ไอติม\n",
              "42        3  0.170723    ไอติม\n",
              "\n",
              "[219 rows x 3 columns], R=30, lambda_step=0.01, plot_opts={'xlab': 'PC1', 'ylab': 'PC2'}, topic_order=[2, 3, 1])"
            ]
          },
          "metadata": {
            "tags": []
          },
          "execution_count": 20
        }
      ]
    },
    {
      "cell_type": "code",
      "metadata": {
        "colab": {
          "base_uri": "https://localhost:8080/"
        },
        "id": "BDt0ElA3C2H8",
        "outputId": "d2395d88-0e4f-4808-9626-561485988f0a"
      },
      "source": [
        "print(lda_model)"
      ],
      "execution_count": 21,
      "outputs": [
        {
          "output_type": "stream",
          "text": [
            "LdaModel(num_terms=563, num_topics=3, decay=0.5, chunksize=2000)\n"
          ],
          "name": "stdout"
        }
      ]
    }
  ]
}